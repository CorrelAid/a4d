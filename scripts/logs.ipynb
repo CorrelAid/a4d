{
 "cells": [
  {
   "cell_type": "code",
   "execution_count": 1,
   "metadata": {},
   "outputs": [],
   "source": [
    "from pathlib import Path\n",
    "\n",
    "import pandas as pd\n",
    "from collections import defaultdict\n",
    "\n",
    "pd.set_option('display.max_colwidth', None)\n",
    "pd.set_option('display.width', None)"
   ]
  },
  {
   "cell_type": "code",
   "execution_count": 2,
   "metadata": {},
   "outputs": [],
   "source": [
    "dir = \"/Users/miay/Library/CloudStorage/OneDrive-Personal/1 Projects/CorrelAid/2023 Q1/A4D/data/logs\""
   ]
  },
  {
   "cell_type": "code",
   "execution_count": 3,
   "metadata": {},
   "outputs": [
    {
     "data": {
      "text/plain": [
       "39"
      ]
     },
     "execution_count": 3,
     "metadata": {},
     "output_type": "execute_result"
    }
   ],
   "source": [
    "files = list(Path(dir).glob(\"*.log\"))\n",
    "len(files)"
   ]
  },
  {
   "cell_type": "code",
   "execution_count": 4,
   "metadata": {},
   "outputs": [],
   "source": [
    "data = defaultdict(list)\n",
    "for file in files:\n",
    "    with open(file, \"r\", encoding=\"utf-8\") as fstream:\n",
    "        for line in fstream.read().splitlines():\n",
    "            error = None\n",
    "            warn = None\n",
    "            if \"ERROR\" in line:\n",
    "                error = line.split(\"\\t\")[-1]\n",
    "                \n",
    "            if \"WARN\" in line:\n",
    "                warn = line.split(\"\\t\")[-1]\n",
    "            \n",
    "            if error or warn: \n",
    "                data[\"file\"].append(file.name)\n",
    "                data[\"error\"].append(error)\n",
    "                data[\"warning\"].append(warn)"
   ]
  },
  {
   "cell_type": "code",
   "execution_count": 5,
   "metadata": {},
   "outputs": [],
   "source": [
    "df = pd.DataFrame(data)"
   ]
  },
  {
   "cell_type": "code",
   "execution_count": 6,
   "metadata": {},
   "outputs": [
    {
     "data": {
      "text/html": [
       "<div>\n",
       "<style scoped>\n",
       "    .dataframe tbody tr th:only-of-type {\n",
       "        vertical-align: middle;\n",
       "    }\n",
       "\n",
       "    .dataframe tbody tr th {\n",
       "        vertical-align: top;\n",
       "    }\n",
       "\n",
       "    .dataframe thead th {\n",
       "        text-align: right;\n",
       "    }\n",
       "</style>\n",
       "<table border=\"1\" class=\"dataframe\">\n",
       "  <thead>\n",
       "    <tr style=\"text-align: right;\">\n",
       "      <th></th>\n",
       "      <th>file</th>\n",
       "      <th>error</th>\n",
       "      <th>warning</th>\n",
       "    </tr>\n",
       "  </thead>\n",
       "  <tbody>\n",
       "    <tr>\n",
       "      <th>0</th>\n",
       "      <td>2022_Putrajaya Hospital A4D Tracker_DC_patient.log</td>\n",
       "      <td>None</td>\n",
       "      <td>Non-matching column names found: lostpatientssummarylostdate,lostpatientssummarystatusout.</td>\n",
       "    </tr>\n",
       "    <tr>\n",
       "      <th>1</th>\n",
       "      <td>2020_Sarawak General Hospital A4D Tracker_DC_patient.log</td>\n",
       "      <td>None</td>\n",
       "      <td>Non-matching column names found: updatedhba1chba1cdate,updatedfbgfbgmmoll,updatedfbgfbgdate.</td>\n",
       "    </tr>\n",
       "    <tr>\n",
       "      <th>2</th>\n",
       "      <td>2020_Sarawak General Hospital A4D Tracker_DC_patient.log</td>\n",
       "      <td>None</td>\n",
       "      <td>Non-matching column names found: updatedhba1chba1cdate,updatedfbgfbgmmoll,updatedfbgfbgdate.</td>\n",
       "    </tr>\n",
       "    <tr>\n",
       "      <th>3</th>\n",
       "      <td>2020_Sarawak General Hospital A4D Tracker_DC_patient.log</td>\n",
       "      <td>None</td>\n",
       "      <td>Non-matching column names found: updatedhba1chba1cdate,updatedfbgfbgmmoll,updatedfbgfbgdate.</td>\n",
       "    </tr>\n",
       "    <tr>\n",
       "      <th>4</th>\n",
       "      <td>2020_Sarawak General Hospital A4D Tracker_DC_patient.log</td>\n",
       "      <td>None</td>\n",
       "      <td>Non-matching column names found: updatedhba1chba1cdate,updatedfbgfbgmmoll,updatedfbgfbgdate.</td>\n",
       "    </tr>\n",
       "    <tr>\n",
       "      <th>...</th>\n",
       "      <td>...</td>\n",
       "      <td>...</td>\n",
       "      <td>...</td>\n",
       "    </tr>\n",
       "    <tr>\n",
       "      <th>239</th>\n",
       "      <td>2020_Penang General Hospital A4D Tracker_DC_patient.log</td>\n",
       "      <td>None</td>\n",
       "      <td>Non-matching column names found: educationvocation,admissiontohospitaldatemmmyy,remarkscomplicationsfamilysupport.</td>\n",
       "    </tr>\n",
       "    <tr>\n",
       "      <th>240</th>\n",
       "      <td>2020_Penang General Hospital A4D Tracker_DC_patient.log</td>\n",
       "      <td>None</td>\n",
       "      <td>Non-matching column names found: educationvocation,admissiontohospitaldatemmyy,remarkscomplicationsfamilysupport.</td>\n",
       "    </tr>\n",
       "    <tr>\n",
       "      <th>241</th>\n",
       "      <td>2020_Penang General Hospital A4D Tracker_DC_patient.log</td>\n",
       "      <td>None</td>\n",
       "      <td>Non-matching column names found: educationvocation,admissiontohospitaldatemmyy,remarkscomplicationsfamilysupport.</td>\n",
       "    </tr>\n",
       "    <tr>\n",
       "      <th>242</th>\n",
       "      <td>2020_Penang General Hospital A4D Tracker_DC_patient.log</td>\n",
       "      <td>None</td>\n",
       "      <td>Non-matching column names found: educationvocation,admissiontohospitaldatemmyy,remarkscomplicationsfamilysupport.</td>\n",
       "    </tr>\n",
       "    <tr>\n",
       "      <th>243</th>\n",
       "      <td>2020_Penang General Hospital A4D Tracker_DC_patient.log</td>\n",
       "      <td>None</td>\n",
       "      <td>Non-matching column names found: educationvocation,admissiontohospitaldatemmyy,remarkscomplicationsfamilysupport.</td>\n",
       "    </tr>\n",
       "  </tbody>\n",
       "</table>\n",
       "<p>244 rows × 3 columns</p>\n",
       "</div>"
      ],
      "text/plain": [
       "                                                         file error  \\\n",
       "0          2022_Putrajaya Hospital A4D Tracker_DC_patient.log  None   \n",
       "1    2020_Sarawak General Hospital A4D Tracker_DC_patient.log  None   \n",
       "2    2020_Sarawak General Hospital A4D Tracker_DC_patient.log  None   \n",
       "3    2020_Sarawak General Hospital A4D Tracker_DC_patient.log  None   \n",
       "4    2020_Sarawak General Hospital A4D Tracker_DC_patient.log  None   \n",
       "..                                                        ...   ...   \n",
       "239   2020_Penang General Hospital A4D Tracker_DC_patient.log  None   \n",
       "240   2020_Penang General Hospital A4D Tracker_DC_patient.log  None   \n",
       "241   2020_Penang General Hospital A4D Tracker_DC_patient.log  None   \n",
       "242   2020_Penang General Hospital A4D Tracker_DC_patient.log  None   \n",
       "243   2020_Penang General Hospital A4D Tracker_DC_patient.log  None   \n",
       "\n",
       "                                                                                                                warning  \n",
       "0                            Non-matching column names found: lostpatientssummarylostdate,lostpatientssummarystatusout.  \n",
       "1                          Non-matching column names found: updatedhba1chba1cdate,updatedfbgfbgmmoll,updatedfbgfbgdate.  \n",
       "2                          Non-matching column names found: updatedhba1chba1cdate,updatedfbgfbgmmoll,updatedfbgfbgdate.  \n",
       "3                          Non-matching column names found: updatedhba1chba1cdate,updatedfbgfbgmmoll,updatedfbgfbgdate.  \n",
       "4                          Non-matching column names found: updatedhba1chba1cdate,updatedfbgfbgmmoll,updatedfbgfbgdate.  \n",
       "..                                                                                                                  ...  \n",
       "239  Non-matching column names found: educationvocation,admissiontohospitaldatemmmyy,remarkscomplicationsfamilysupport.  \n",
       "240   Non-matching column names found: educationvocation,admissiontohospitaldatemmyy,remarkscomplicationsfamilysupport.  \n",
       "241   Non-matching column names found: educationvocation,admissiontohospitaldatemmyy,remarkscomplicationsfamilysupport.  \n",
       "242   Non-matching column names found: educationvocation,admissiontohospitaldatemmyy,remarkscomplicationsfamilysupport.  \n",
       "243   Non-matching column names found: educationvocation,admissiontohospitaldatemmyy,remarkscomplicationsfamilysupport.  \n",
       "\n",
       "[244 rows x 3 columns]"
      ]
     },
     "execution_count": 6,
     "metadata": {},
     "output_type": "execute_result"
    }
   ],
   "source": [
    "df"
   ]
  },
  {
   "cell_type": "code",
   "execution_count": 16,
   "metadata": {},
   "outputs": [],
   "source": [
    "df.to_csv(Path(dir) / \"error_report.csv\", index=False)"
   ]
  },
  {
   "cell_type": "code",
   "execution_count": 7,
   "metadata": {},
   "outputs": [
    {
     "data": {
      "text/plain": [
       "18"
      ]
     },
     "execution_count": 7,
     "metadata": {},
     "output_type": "execute_result"
    }
   ],
   "source": [
    "df.file.nunique()"
   ]
  },
  {
   "attachments": {},
   "cell_type": "markdown",
   "metadata": {},
   "source": [
    "## Error"
   ]
  },
  {
   "cell_type": "code",
   "execution_count": 8,
   "metadata": {},
   "outputs": [
    {
     "data": {
      "text/html": [
       "<div>\n",
       "<style scoped>\n",
       "    .dataframe tbody tr th:only-of-type {\n",
       "        vertical-align: middle;\n",
       "    }\n",
       "\n",
       "    .dataframe tbody tr th {\n",
       "        vertical-align: top;\n",
       "    }\n",
       "\n",
       "    .dataframe thead th {\n",
       "        text-align: right;\n",
       "    }\n",
       "</style>\n",
       "<table border=\"1\" class=\"dataframe\">\n",
       "  <thead>\n",
       "    <tr style=\"text-align: right;\">\n",
       "      <th></th>\n",
       "      <th>file</th>\n",
       "      <th>error</th>\n",
       "      <th>warning</th>\n",
       "    </tr>\n",
       "  </thead>\n",
       "  <tbody>\n",
       "    <tr>\n",
       "      <th>11</th>\n",
       "      <td>2021_Lao Friends Hospital for Children A4D Tracker_DC_patient.log</td>\n",
       "      <td>Could not process 2021_Lao Friends Hospital for Children A4D Tracker_DC. Error = Error: row_min &lt; row_max is not TRUE .</td>\n",
       "      <td>None</td>\n",
       "    </tr>\n",
       "    <tr>\n",
       "      <th>23</th>\n",
       "      <td>2021_Lao Friends Hospital for Children A4D Tracker_DC_patient.log</td>\n",
       "      <td>Could not process 2022_Lao Friends Hospital for Children A4D Tracker_DC. Error = Error: row_min &lt; row_max is not TRUE .</td>\n",
       "      <td>None</td>\n",
       "    </tr>\n",
       "    <tr>\n",
       "      <th>93</th>\n",
       "      <td>2018_Lao Friends Hospital for Children A4D Tracker_DC_patient.log</td>\n",
       "      <td>Could not process 2018_Lao Friends Hospital for Children A4D Tracker_DC. Error = Error: row_min &lt; row_max is not TRUE .</td>\n",
       "      <td>None</td>\n",
       "    </tr>\n",
       "    <tr>\n",
       "      <th>94</th>\n",
       "      <td>2018_Lao Friends Hospital for Children A4D Tracker_DC_patient.log</td>\n",
       "      <td>Could not process 2019_Lao Friends Hospital for Children A4D Tracker_DC. Error = Error: row_min &lt; row_max is not TRUE .</td>\n",
       "      <td>None</td>\n",
       "    </tr>\n",
       "    <tr>\n",
       "      <th>95</th>\n",
       "      <td>2018_Lao Friends Hospital for Children A4D Tracker_DC_patient.log</td>\n",
       "      <td>Could not process 2020_Lao Friends Hospital for Children A4D Tracker_DC. Error = Error: row_min &lt; row_max is not TRUE .</td>\n",
       "      <td>None</td>\n",
       "    </tr>\n",
       "    <tr>\n",
       "      <th>96</th>\n",
       "      <td>2018_Lao Friends Hospital for Children A4D Tracker_DC_patient.log</td>\n",
       "      <td>Could not process 2021_Lao Friends Hospital for Children A4D Tracker_DC. Error = Error: row_min &lt; row_max is not TRUE .</td>\n",
       "      <td>None</td>\n",
       "    </tr>\n",
       "    <tr>\n",
       "      <th>108</th>\n",
       "      <td>2018_Lao Friends Hospital for Children A4D Tracker_DC_patient.log</td>\n",
       "      <td>Could not process 2022_Lao Friends Hospital for Children A4D Tracker_DC. Error = Error: row_min &lt; row_max is not TRUE .</td>\n",
       "      <td>None</td>\n",
       "    </tr>\n",
       "    <tr>\n",
       "      <th>157</th>\n",
       "      <td>2020_Lao Friends Hospital for Children A4D Tracker_DC_patient.log</td>\n",
       "      <td>Could not process 2020_Lao Friends Hospital for Children A4D Tracker_DC. Error = Error: row_min &lt; row_max is not TRUE .</td>\n",
       "      <td>None</td>\n",
       "    </tr>\n",
       "    <tr>\n",
       "      <th>158</th>\n",
       "      <td>2020_Lao Friends Hospital for Children A4D Tracker_DC_patient.log</td>\n",
       "      <td>Could not process 2021_Lao Friends Hospital for Children A4D Tracker_DC. Error = Error: row_min &lt; row_max is not TRUE .</td>\n",
       "      <td>None</td>\n",
       "    </tr>\n",
       "    <tr>\n",
       "      <th>170</th>\n",
       "      <td>2020_Lao Friends Hospital for Children A4D Tracker_DC_patient.log</td>\n",
       "      <td>Could not process 2022_Lao Friends Hospital for Children A4D Tracker_DC. Error = Error: row_min &lt; row_max is not TRUE .</td>\n",
       "      <td>None</td>\n",
       "    </tr>\n",
       "    <tr>\n",
       "      <th>203</th>\n",
       "      <td>2019_Lao Friends Hospital for Children A4D Tracker_DC_patient.log</td>\n",
       "      <td>Could not process 2019_Lao Friends Hospital for Children A4D Tracker_DC. Error = Error: row_min &lt; row_max is not TRUE .</td>\n",
       "      <td>None</td>\n",
       "    </tr>\n",
       "    <tr>\n",
       "      <th>204</th>\n",
       "      <td>2019_Lao Friends Hospital for Children A4D Tracker_DC_patient.log</td>\n",
       "      <td>Could not process 2020_Lao Friends Hospital for Children A4D Tracker_DC. Error = Error: row_min &lt; row_max is not TRUE .</td>\n",
       "      <td>None</td>\n",
       "    </tr>\n",
       "    <tr>\n",
       "      <th>205</th>\n",
       "      <td>2019_Lao Friends Hospital for Children A4D Tracker_DC_patient.log</td>\n",
       "      <td>Could not process 2021_Lao Friends Hospital for Children A4D Tracker_DC. Error = Error: row_min &lt; row_max is not TRUE .</td>\n",
       "      <td>None</td>\n",
       "    </tr>\n",
       "    <tr>\n",
       "      <th>217</th>\n",
       "      <td>2019_Lao Friends Hospital for Children A4D Tracker_DC_patient.log</td>\n",
       "      <td>Could not process 2022_Lao Friends Hospital for Children A4D Tracker_DC. Error = Error: row_min &lt; row_max is not TRUE .</td>\n",
       "      <td>None</td>\n",
       "    </tr>\n",
       "  </tbody>\n",
       "</table>\n",
       "</div>"
      ],
      "text/plain": [
       "                                                                  file  \\\n",
       "11   2021_Lao Friends Hospital for Children A4D Tracker_DC_patient.log   \n",
       "23   2021_Lao Friends Hospital for Children A4D Tracker_DC_patient.log   \n",
       "93   2018_Lao Friends Hospital for Children A4D Tracker_DC_patient.log   \n",
       "94   2018_Lao Friends Hospital for Children A4D Tracker_DC_patient.log   \n",
       "95   2018_Lao Friends Hospital for Children A4D Tracker_DC_patient.log   \n",
       "96   2018_Lao Friends Hospital for Children A4D Tracker_DC_patient.log   \n",
       "108  2018_Lao Friends Hospital for Children A4D Tracker_DC_patient.log   \n",
       "157  2020_Lao Friends Hospital for Children A4D Tracker_DC_patient.log   \n",
       "158  2020_Lao Friends Hospital for Children A4D Tracker_DC_patient.log   \n",
       "170  2020_Lao Friends Hospital for Children A4D Tracker_DC_patient.log   \n",
       "203  2019_Lao Friends Hospital for Children A4D Tracker_DC_patient.log   \n",
       "204  2019_Lao Friends Hospital for Children A4D Tracker_DC_patient.log   \n",
       "205  2019_Lao Friends Hospital for Children A4D Tracker_DC_patient.log   \n",
       "217  2019_Lao Friends Hospital for Children A4D Tracker_DC_patient.log   \n",
       "\n",
       "                                                                                                                       error  \\\n",
       "11   Could not process 2021_Lao Friends Hospital for Children A4D Tracker_DC. Error = Error: row_min < row_max is not TRUE .   \n",
       "23   Could not process 2022_Lao Friends Hospital for Children A4D Tracker_DC. Error = Error: row_min < row_max is not TRUE .   \n",
       "93   Could not process 2018_Lao Friends Hospital for Children A4D Tracker_DC. Error = Error: row_min < row_max is not TRUE .   \n",
       "94   Could not process 2019_Lao Friends Hospital for Children A4D Tracker_DC. Error = Error: row_min < row_max is not TRUE .   \n",
       "95   Could not process 2020_Lao Friends Hospital for Children A4D Tracker_DC. Error = Error: row_min < row_max is not TRUE .   \n",
       "96   Could not process 2021_Lao Friends Hospital for Children A4D Tracker_DC. Error = Error: row_min < row_max is not TRUE .   \n",
       "108  Could not process 2022_Lao Friends Hospital for Children A4D Tracker_DC. Error = Error: row_min < row_max is not TRUE .   \n",
       "157  Could not process 2020_Lao Friends Hospital for Children A4D Tracker_DC. Error = Error: row_min < row_max is not TRUE .   \n",
       "158  Could not process 2021_Lao Friends Hospital for Children A4D Tracker_DC. Error = Error: row_min < row_max is not TRUE .   \n",
       "170  Could not process 2022_Lao Friends Hospital for Children A4D Tracker_DC. Error = Error: row_min < row_max is not TRUE .   \n",
       "203  Could not process 2019_Lao Friends Hospital for Children A4D Tracker_DC. Error = Error: row_min < row_max is not TRUE .   \n",
       "204  Could not process 2020_Lao Friends Hospital for Children A4D Tracker_DC. Error = Error: row_min < row_max is not TRUE .   \n",
       "205  Could not process 2021_Lao Friends Hospital for Children A4D Tracker_DC. Error = Error: row_min < row_max is not TRUE .   \n",
       "217  Could not process 2022_Lao Friends Hospital for Children A4D Tracker_DC. Error = Error: row_min < row_max is not TRUE .   \n",
       "\n",
       "    warning  \n",
       "11     None  \n",
       "23     None  \n",
       "93     None  \n",
       "94     None  \n",
       "95     None  \n",
       "96     None  \n",
       "108    None  \n",
       "157    None  \n",
       "158    None  \n",
       "170    None  \n",
       "203    None  \n",
       "204    None  \n",
       "205    None  \n",
       "217    None  "
      ]
     },
     "execution_count": 8,
     "metadata": {},
     "output_type": "execute_result"
    }
   ],
   "source": [
    "df[~df.error.isna()]"
   ]
  },
  {
   "cell_type": "code",
   "execution_count": 9,
   "metadata": {},
   "outputs": [
    {
     "data": {
      "text/plain": [
       "35.8974358974359"
      ]
     },
     "execution_count": 9,
     "metadata": {},
     "output_type": "execute_result"
    }
   ],
   "source": [
    "# how many files could not be processed in %?\n",
    "len(df[(~df.error.isna()) & (df.error.str.contains(\"Could not process\"))]) / len(files) * 100\n",
    "                                                        "
   ]
  },
  {
   "cell_type": "code",
   "execution_count": 10,
   "metadata": {},
   "outputs": [
    {
     "data": {
      "text/plain": [
       "[]"
      ]
     },
     "execution_count": 10,
     "metadata": {},
     "output_type": "execute_result"
    }
   ],
   "source": [
    "# missing patient id\n",
    "df[(~df.error.isna()) & (df.error.str.contains(\"patient_id\"))].file.tolist()"
   ]
  },
  {
   "cell_type": "code",
   "execution_count": 11,
   "metadata": {},
   "outputs": [
    {
     "name": "stdout",
     "output_type": "stream",
     "text": [
      "\n"
     ]
    }
   ],
   "source": [
    "# month list is empty?\n",
    "print(\"\\n\".join(l.split(\".\")[0] for l in df[(~df.error.isna()) & (df.error.str.contains(\"month_list\"))].file.tolist()))"
   ]
  },
  {
   "cell_type": "code",
   "execution_count": 12,
   "metadata": {},
   "outputs": [
    {
     "name": "stdout",
     "output_type": "stream",
     "text": [
      "[]\n",
      "[]\n",
      "[]\n",
      "[]\n",
      "[]\n",
      "[]\n"
     ]
    }
   ],
   "source": [
    "# cannot find patient data\n",
    "for year in range(2017,2023):\n",
    "    subdf = df[(~df.error.isna()) & (df.error.str.contains(\"readxl::cell_limits\"))]\n",
    "    print(subdf[subdf.file.str.startswith(str(year))].file.tolist())"
   ]
  },
  {
   "cell_type": "code",
   "execution_count": 13,
   "metadata": {},
   "outputs": [
    {
     "data": {
      "text/html": [
       "<div>\n",
       "<style scoped>\n",
       "    .dataframe tbody tr th:only-of-type {\n",
       "        vertical-align: middle;\n",
       "    }\n",
       "\n",
       "    .dataframe tbody tr th {\n",
       "        vertical-align: top;\n",
       "    }\n",
       "\n",
       "    .dataframe thead th {\n",
       "        text-align: right;\n",
       "    }\n",
       "</style>\n",
       "<table border=\"1\" class=\"dataframe\">\n",
       "  <thead>\n",
       "    <tr style=\"text-align: right;\">\n",
       "      <th></th>\n",
       "      <th>file</th>\n",
       "      <th>error</th>\n",
       "      <th>warning</th>\n",
       "    </tr>\n",
       "  </thead>\n",
       "  <tbody>\n",
       "  </tbody>\n",
       "</table>\n",
       "</div>"
      ],
      "text/plain": [
       "Empty DataFrame\n",
       "Columns: [file, error, warning]\n",
       "Index: []"
      ]
     },
     "execution_count": 13,
     "metadata": {},
     "output_type": "execute_result"
    }
   ],
   "source": [
    "# check problem with num_na_rows\n",
    "subdf = df[(~df.error.isna()) & (df.error.str.contains(\"num_na_rows\"))]\n",
    "subdf"
   ]
  },
  {
   "cell_type": "code",
   "execution_count": 14,
   "metadata": {},
   "outputs": [
    {
     "data": {
      "text/plain": [
       "[]"
      ]
     },
     "execution_count": 14,
     "metadata": {},
     "output_type": "execute_result"
    }
   ],
   "source": [
    "# check start_df_msd:end_df_msd\n",
    "subdf = df[(~df.error.isna()) & (df.error.str.contains(\"start_df_msd\"))]\n",
    "subdf.file.tolist()"
   ]
  },
  {
   "attachments": {},
   "cell_type": "markdown",
   "metadata": {},
   "source": [
    "# Warnings"
   ]
  },
  {
   "cell_type": "code",
   "execution_count": 18,
   "metadata": {},
   "outputs": [
    {
     "data": {
      "text/html": [
       "<div>\n",
       "<style scoped>\n",
       "    .dataframe tbody tr th:only-of-type {\n",
       "        vertical-align: middle;\n",
       "    }\n",
       "\n",
       "    .dataframe tbody tr th {\n",
       "        vertical-align: top;\n",
       "    }\n",
       "\n",
       "    .dataframe thead th {\n",
       "        text-align: right;\n",
       "    }\n",
       "</style>\n",
       "<table border=\"1\" class=\"dataframe\">\n",
       "  <thead>\n",
       "    <tr style=\"text-align: right;\">\n",
       "      <th></th>\n",
       "      <th>file</th>\n",
       "      <th>error</th>\n",
       "      <th>warning</th>\n",
       "    </tr>\n",
       "  </thead>\n",
       "  <tbody>\n",
       "    <tr>\n",
       "      <th>0</th>\n",
       "      <td>2022_Putrajaya Hospital A4D Tracker_DC_patient.log</td>\n",
       "      <td>None</td>\n",
       "      <td>Non-matching column names found: lostpatientssummarylostdate,lostpatientssummarystatusout.</td>\n",
       "    </tr>\n",
       "    <tr>\n",
       "      <th>1</th>\n",
       "      <td>2020_Sarawak General Hospital A4D Tracker_DC_patient.log</td>\n",
       "      <td>None</td>\n",
       "      <td>Non-matching column names found: updatedhba1chba1cdate,updatedfbgfbgmmoll,updatedfbgfbgdate.</td>\n",
       "    </tr>\n",
       "    <tr>\n",
       "      <th>2</th>\n",
       "      <td>2020_Sarawak General Hospital A4D Tracker_DC_patient.log</td>\n",
       "      <td>None</td>\n",
       "      <td>Non-matching column names found: updatedhba1chba1cdate,updatedfbgfbgmmoll,updatedfbgfbgdate.</td>\n",
       "    </tr>\n",
       "    <tr>\n",
       "      <th>3</th>\n",
       "      <td>2020_Sarawak General Hospital A4D Tracker_DC_patient.log</td>\n",
       "      <td>None</td>\n",
       "      <td>Non-matching column names found: updatedhba1chba1cdate,updatedfbgfbgmmoll,updatedfbgfbgdate.</td>\n",
       "    </tr>\n",
       "    <tr>\n",
       "      <th>4</th>\n",
       "      <td>2020_Sarawak General Hospital A4D Tracker_DC_patient.log</td>\n",
       "      <td>None</td>\n",
       "      <td>Non-matching column names found: updatedhba1chba1cdate,updatedfbgfbgmmoll,updatedfbgfbgdate.</td>\n",
       "    </tr>\n",
       "    <tr>\n",
       "      <th>...</th>\n",
       "      <td>...</td>\n",
       "      <td>...</td>\n",
       "      <td>...</td>\n",
       "    </tr>\n",
       "    <tr>\n",
       "      <th>239</th>\n",
       "      <td>2020_Penang General Hospital A4D Tracker_DC_patient.log</td>\n",
       "      <td>None</td>\n",
       "      <td>Non-matching column names found: educationvocation,admissiontohospitaldatemmmyy,remarkscomplicationsfamilysupport.</td>\n",
       "    </tr>\n",
       "    <tr>\n",
       "      <th>240</th>\n",
       "      <td>2020_Penang General Hospital A4D Tracker_DC_patient.log</td>\n",
       "      <td>None</td>\n",
       "      <td>Non-matching column names found: educationvocation,admissiontohospitaldatemmyy,remarkscomplicationsfamilysupport.</td>\n",
       "    </tr>\n",
       "    <tr>\n",
       "      <th>241</th>\n",
       "      <td>2020_Penang General Hospital A4D Tracker_DC_patient.log</td>\n",
       "      <td>None</td>\n",
       "      <td>Non-matching column names found: educationvocation,admissiontohospitaldatemmyy,remarkscomplicationsfamilysupport.</td>\n",
       "    </tr>\n",
       "    <tr>\n",
       "      <th>242</th>\n",
       "      <td>2020_Penang General Hospital A4D Tracker_DC_patient.log</td>\n",
       "      <td>None</td>\n",
       "      <td>Non-matching column names found: educationvocation,admissiontohospitaldatemmyy,remarkscomplicationsfamilysupport.</td>\n",
       "    </tr>\n",
       "    <tr>\n",
       "      <th>243</th>\n",
       "      <td>2020_Penang General Hospital A4D Tracker_DC_patient.log</td>\n",
       "      <td>None</td>\n",
       "      <td>Non-matching column names found: educationvocation,admissiontohospitaldatemmyy,remarkscomplicationsfamilysupport.</td>\n",
       "    </tr>\n",
       "  </tbody>\n",
       "</table>\n",
       "<p>230 rows × 3 columns</p>\n",
       "</div>"
      ],
      "text/plain": [
       "                                                         file error  \\\n",
       "0          2022_Putrajaya Hospital A4D Tracker_DC_patient.log  None   \n",
       "1    2020_Sarawak General Hospital A4D Tracker_DC_patient.log  None   \n",
       "2    2020_Sarawak General Hospital A4D Tracker_DC_patient.log  None   \n",
       "3    2020_Sarawak General Hospital A4D Tracker_DC_patient.log  None   \n",
       "4    2020_Sarawak General Hospital A4D Tracker_DC_patient.log  None   \n",
       "..                                                        ...   ...   \n",
       "239   2020_Penang General Hospital A4D Tracker_DC_patient.log  None   \n",
       "240   2020_Penang General Hospital A4D Tracker_DC_patient.log  None   \n",
       "241   2020_Penang General Hospital A4D Tracker_DC_patient.log  None   \n",
       "242   2020_Penang General Hospital A4D Tracker_DC_patient.log  None   \n",
       "243   2020_Penang General Hospital A4D Tracker_DC_patient.log  None   \n",
       "\n",
       "                                                                                                                warning  \n",
       "0                            Non-matching column names found: lostpatientssummarylostdate,lostpatientssummarystatusout.  \n",
       "1                          Non-matching column names found: updatedhba1chba1cdate,updatedfbgfbgmmoll,updatedfbgfbgdate.  \n",
       "2                          Non-matching column names found: updatedhba1chba1cdate,updatedfbgfbgmmoll,updatedfbgfbgdate.  \n",
       "3                          Non-matching column names found: updatedhba1chba1cdate,updatedfbgfbgmmoll,updatedfbgfbgdate.  \n",
       "4                          Non-matching column names found: updatedhba1chba1cdate,updatedfbgfbgmmoll,updatedfbgfbgdate.  \n",
       "..                                                                                                                  ...  \n",
       "239  Non-matching column names found: educationvocation,admissiontohospitaldatemmmyy,remarkscomplicationsfamilysupport.  \n",
       "240   Non-matching column names found: educationvocation,admissiontohospitaldatemmyy,remarkscomplicationsfamilysupport.  \n",
       "241   Non-matching column names found: educationvocation,admissiontohospitaldatemmyy,remarkscomplicationsfamilysupport.  \n",
       "242   Non-matching column names found: educationvocation,admissiontohospitaldatemmyy,remarkscomplicationsfamilysupport.  \n",
       "243   Non-matching column names found: educationvocation,admissiontohospitaldatemmyy,remarkscomplicationsfamilysupport.  \n",
       "\n",
       "[230 rows x 3 columns]"
      ]
     },
     "execution_count": 18,
     "metadata": {},
     "output_type": "execute_result"
    }
   ],
   "source": [
    "df[~df.warning.isna()]"
   ]
  },
  {
   "cell_type": "code",
   "execution_count": 15,
   "metadata": {},
   "outputs": [],
   "source": [
    "missed_names = df[(~df.warning.isna()) & (df.warning.str.startswith(\"Non-matching column names found\"))].warning.str.split(\":\",expand=True)[1].drop_duplicates()"
   ]
  },
  {
   "cell_type": "code",
   "execution_count": 16,
   "metadata": {},
   "outputs": [],
   "source": [
    "names = set()\n",
    "for row in missed_names:\n",
    "    names.update(w.strip(\".\") for w in row.split(\",\"))"
   ]
  },
  {
   "cell_type": "code",
   "execution_count": 17,
   "metadata": {},
   "outputs": [
    {
     "data": {
      "text/plain": [
       "{' complicationscreeningdropdown',\n",
       " ' currentmonthcomplicationscreeningdropdown',\n",
       " ' educationvocation',\n",
       " ' hospitalisationduetodiabetesemergencydate',\n",
       " ' lostpatientssummarylostdate',\n",
       " ' newmeter',\n",
       " ' recommendedtestingfrequencyperday',\n",
       " ' updatedhba1chba1cdate',\n",
       " ' virtualremotecontactyn',\n",
       " 'admissiontohospitaldatemmmyy',\n",
       " 'admissiontohospitaldatemmyy',\n",
       " 'complicationscreening',\n",
       " 'complicationscreeningcurrentmonthtesting',\n",
       " 'complicationscreeningcurrentmonthtestingselectfordropdown',\n",
       " 'complicationscreeningselect',\n",
       " 'complicationscreeningselectfordropdown',\n",
       " 'currentmonthcomplicationscreening',\n",
       " 'currentmonthhospitalisationduetodiabetesemergencyorglucosecontroldate',\n",
       " 'currentmonthhospitalisationduetodiabetesemergencyorglucosecontrolreason',\n",
       " 'hospitalisationduetodiabetesemergencyorglucosecontroldate',\n",
       " 'hospitalisationduetodiabetesemergencyorglucosecontrolreason',\n",
       " 'lostpatientssummarystatusout',\n",
       " 'meter',\n",
       " 'observationcategoryselect',\n",
       " 'otherpatientobservations',\n",
       " 'patientobservations',\n",
       " 'recommendedtestingfrequencyperday',\n",
       " 'remarkscomplicationsfamilysupport',\n",
       " 'suggestionsforpotentialadditionalsupportorinterventionfroma4degcomplicationsorfamilysupport',\n",
       " 'updatedfbgfbgdate',\n",
       " 'updatedfbgfbgmmoll',\n",
       " 'virtualremotecontactdate'}"
      ]
     },
     "execution_count": 17,
     "metadata": {},
     "output_type": "execute_result"
    }
   ],
   "source": [
    "names"
   ]
  },
  {
   "cell_type": "code",
   "execution_count": null,
   "metadata": {},
   "outputs": [],
   "source": []
  },
  {
   "cell_type": "code",
   "execution_count": null,
   "metadata": {},
   "outputs": [],
   "source": []
  },
  {
   "cell_type": "code",
   "execution_count": null,
   "metadata": {},
   "outputs": [],
   "source": []
  },
  {
   "cell_type": "code",
   "execution_count": null,
   "metadata": {},
   "outputs": [],
   "source": []
  },
  {
   "cell_type": "code",
   "execution_count": null,
   "metadata": {},
   "outputs": [],
   "source": []
  }
 ],
 "metadata": {
  "kernelspec": {
   "display_name": "Python 3",
   "language": "python",
   "name": "python3"
  },
  "language_info": {
   "codemirror_mode": {
    "name": "ipython",
    "version": 3
   },
   "file_extension": ".py",
   "mimetype": "text/x-python",
   "name": "python",
   "nbconvert_exporter": "python",
   "pygments_lexer": "ipython3",
   "version": "3.9.15"
  },
  "orig_nbformat": 4
 },
 "nbformat": 4,
 "nbformat_minor": 2
}
