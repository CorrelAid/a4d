{
 "cells": [
  {
   "cell_type": "code",
   "execution_count": 19,
   "metadata": {},
   "outputs": [],
   "source": [
    "from pathlib import Path\n",
    "\n",
    "import pandas as pd\n",
    "from collections import defaultdict\n",
    "\n",
    "pd.set_option('display.max_colwidth', None)\n",
    "pd.set_option('display.width', None)"
   ]
  },
  {
   "cell_type": "code",
   "execution_count": 20,
   "metadata": {},
   "outputs": [],
   "source": [
    "dir = \"/Volumes/USB SanDisk 3.2Gen1 Media/a4d/a4dphase2_upload/output/logs\""
   ]
  },
  {
   "cell_type": "code",
   "execution_count": 21,
   "metadata": {},
   "outputs": [
    {
     "data": {
      "text/plain": [
       "43"
      ]
     },
     "execution_count": 21,
     "metadata": {},
     "output_type": "execute_result"
    }
   ],
   "source": [
    "files = list(Path(dir).glob(\"*.log\"))\n",
    "len(files)"
   ]
  },
  {
   "cell_type": "code",
   "execution_count": 22,
   "metadata": {},
   "outputs": [],
   "source": [
    "data = defaultdict(list)\n",
    "for file in files:\n",
    "    with open(file, \"r\", encoding=\"utf-8\") as fstream:\n",
    "        for line in fstream.read().splitlines():\n",
    "            error = None\n",
    "            warn = None\n",
    "            if \"ERROR\" in line:\n",
    "                error = line.split(\"\\t\")[-1]\n",
    "                \n",
    "            if \"WARN\" in line:\n",
    "                warn = line.split(\"\\t\")[-1]\n",
    "            \n",
    "            if error or warn: \n",
    "                data[\"file\"].append(file.name)\n",
    "                data[\"error\"].append(error)\n",
    "                data[\"warning\"].append(warn)"
   ]
  },
  {
   "cell_type": "code",
   "execution_count": 23,
   "metadata": {},
   "outputs": [],
   "source": [
    "df = pd.DataFrame(data)"
   ]
  },
  {
   "cell_type": "code",
   "execution_count": 24,
   "metadata": {},
   "outputs": [
    {
     "data": {
      "text/html": [
       "<div>\n",
       "<style scoped>\n",
       "    .dataframe tbody tr th:only-of-type {\n",
       "        vertical-align: middle;\n",
       "    }\n",
       "\n",
       "    .dataframe tbody tr th {\n",
       "        vertical-align: top;\n",
       "    }\n",
       "\n",
       "    .dataframe thead th {\n",
       "        text-align: right;\n",
       "    }\n",
       "</style>\n",
       "<table border=\"1\" class=\"dataframe\">\n",
       "  <thead>\n",
       "    <tr style=\"text-align: right;\">\n",
       "      <th></th>\n",
       "      <th>file</th>\n",
       "      <th>error</th>\n",
       "      <th>warning</th>\n",
       "    </tr>\n",
       "  </thead>\n",
       "  <tbody>\n",
       "    <tr>\n",
       "      <th>0</th>\n",
       "      <td>2021_Putrajaya Hospital A4D Tracker_DC_patient.log</td>\n",
       "      <td>None</td>\n",
       "      <td>Non-matching column names found: recommendedtestingfrequencyperday,hospitalisationduetodiabetesemergencyorglucosecontrolreason,hospitalisationduetodiabetesemergencyorglucosecontroldate,complicationscreeningselect,patientobservations,observationcategoryselect,suggestionsforpotentialadditionalsupportorinterventionfroma4degcomplicationsorfamilysupport.</td>\n",
       "    </tr>\n",
       "    <tr>\n",
       "      <th>1</th>\n",
       "      <td>2021_Putrajaya Hospital A4D Tracker_DC_patient.log</td>\n",
       "      <td>None</td>\n",
       "      <td>Non-matching column names found: recommendedtestingfrequencyperday,hospitalisationduetodiabetesemergencyorglucosecontrolreason,hospitalisationduetodiabetesemergencyorglucosecontroldate,complicationscreeningselectfordropdown,complicationscreening,otherpatientobservations,observationcategoryselect,suggestionsforpotentialadditionalsupportorinterventionfroma4degcomplicationsorfamilysupport.</td>\n",
       "    </tr>\n",
       "    <tr>\n",
       "      <th>2</th>\n",
       "      <td>2021_Putrajaya Hospital A4D Tracker_DC_patient.log</td>\n",
       "      <td>None</td>\n",
       "      <td>Non-matching column names found: virtualremotecontactyn,virtualremotecontactdate,recommendedtestingfrequencyperday,hospitalisationduetodiabetesemergencyorglucosecontrolreason,hospitalisationduetodiabetesemergencyorglucosecontroldate,complicationscreeningselectfordropdown,complicationscreening,otherpatientobservations,observationcategoryselect,suggestionsforpotentialadditionalsupportorinterventionfroma4degcomplicationsorfamilysupport.</td>\n",
       "    </tr>\n",
       "    <tr>\n",
       "      <th>3</th>\n",
       "      <td>2021_Putrajaya Hospital A4D Tracker_DC_patient.log</td>\n",
       "      <td>None</td>\n",
       "      <td>Non-matching column names found: virtualremotecontactyn,virtualremotecontactdate,recommendedtestingfrequencyperday,currentmonthhospitalisationduetodiabetesemergencyorglucosecontrolreason,currentmonthhospitalisationduetodiabetesemergencyorglucosecontroldate,complicationscreeningcurrentmonthtestingselectfordropdown,complicationscreeningcurrentmonthtesting,otherpatientobservations,observationcategoryselect,suggestionsforpotentialadditionalsupportorinterventionfroma4degcomplicationsorfamilysupport.</td>\n",
       "    </tr>\n",
       "    <tr>\n",
       "      <th>4</th>\n",
       "      <td>2021_Putrajaya Hospital A4D Tracker_DC_patient.log</td>\n",
       "      <td>None</td>\n",
       "      <td>Non-matching column names found: virtualremotecontactyn,virtualremotecontactdate,recommendedtestingfrequencyperday,currentmonthhospitalisationduetodiabetesemergencyorglucosecontrolreason,currentmonthhospitalisationduetodiabetesemergencyorglucosecontroldate,complicationscreeningcurrentmonthtestingselectfordropdown,complicationscreeningcurrentmonthtesting,otherpatientobservations,observationcategoryselect,suggestionsforpotentialadditionalsupportorinterventionfroma4degcomplicationsorfamilysupport,meter.</td>\n",
       "    </tr>\n",
       "    <tr>\n",
       "      <th>...</th>\n",
       "      <td>...</td>\n",
       "      <td>...</td>\n",
       "      <td>...</td>\n",
       "    </tr>\n",
       "    <tr>\n",
       "      <th>266</th>\n",
       "      <td>2022_Sultanah Bahiyah A4D Tracker_DC_patient.log</td>\n",
       "      <td>None</td>\n",
       "      <td>Non-matching column names found: updatedhba1chba1cdate,updatedfbgfbgmmoll,updatedfbgfbgdate.</td>\n",
       "    </tr>\n",
       "    <tr>\n",
       "      <th>267</th>\n",
       "      <td>2022_Sultanah Bahiyah A4D Tracker_DC_patient.log</td>\n",
       "      <td>None</td>\n",
       "      <td>Non-matching column names found: updatedhba1chba1cdate,updatedfbgfbgmmoll,updatedfbgfbgdate.</td>\n",
       "    </tr>\n",
       "    <tr>\n",
       "      <th>268</th>\n",
       "      <td>2022_Sultanah Bahiyah A4D Tracker_DC_patient.log</td>\n",
       "      <td>None</td>\n",
       "      <td>Non-matching column names found: newmeter.</td>\n",
       "    </tr>\n",
       "    <tr>\n",
       "      <th>269</th>\n",
       "      <td>2022_Sultanah Bahiyah A4D Tracker_DC_patient.log</td>\n",
       "      <td>None</td>\n",
       "      <td>Non-matching column names found: newmeter.</td>\n",
       "    </tr>\n",
       "    <tr>\n",
       "      <th>270</th>\n",
       "      <td>2022_Sultanah Bahiyah A4D Tracker_DC_patient.log</td>\n",
       "      <td>None</td>\n",
       "      <td>Non-matching column names found: lostpatientssummarylostdate,lostpatientssummarystatusout.</td>\n",
       "    </tr>\n",
       "  </tbody>\n",
       "</table>\n",
       "<p>271 rows × 3 columns</p>\n",
       "</div>"
      ],
      "text/plain": [
       "                                                   file error  \\\n",
       "0    2021_Putrajaya Hospital A4D Tracker_DC_patient.log  None   \n",
       "1    2021_Putrajaya Hospital A4D Tracker_DC_patient.log  None   \n",
       "2    2021_Putrajaya Hospital A4D Tracker_DC_patient.log  None   \n",
       "3    2021_Putrajaya Hospital A4D Tracker_DC_patient.log  None   \n",
       "4    2021_Putrajaya Hospital A4D Tracker_DC_patient.log  None   \n",
       "..                                                  ...   ...   \n",
       "266    2022_Sultanah Bahiyah A4D Tracker_DC_patient.log  None   \n",
       "267    2022_Sultanah Bahiyah A4D Tracker_DC_patient.log  None   \n",
       "268    2022_Sultanah Bahiyah A4D Tracker_DC_patient.log  None   \n",
       "269    2022_Sultanah Bahiyah A4D Tracker_DC_patient.log  None   \n",
       "270    2022_Sultanah Bahiyah A4D Tracker_DC_patient.log  None   \n",
       "\n",
       "                                                                                                                                                                                                                                                                                                                                                                                                                                                                                                                       warning  \n",
       "0                                                                                                                                                              Non-matching column names found: recommendedtestingfrequencyperday,hospitalisationduetodiabetesemergencyorglucosecontrolreason,hospitalisationduetodiabetesemergencyorglucosecontroldate,complicationscreeningselect,patientobservations,observationcategoryselect,suggestionsforpotentialadditionalsupportorinterventionfroma4degcomplicationsorfamilysupport.  \n",
       "1                                                                                                                        Non-matching column names found: recommendedtestingfrequencyperday,hospitalisationduetodiabetesemergencyorglucosecontrolreason,hospitalisationduetodiabetesemergencyorglucosecontroldate,complicationscreeningselectfordropdown,complicationscreening,otherpatientobservations,observationcategoryselect,suggestionsforpotentialadditionalsupportorinterventionfroma4degcomplicationsorfamilysupport.  \n",
       "2                                                                        Non-matching column names found: virtualremotecontactyn,virtualremotecontactdate,recommendedtestingfrequencyperday,hospitalisationduetodiabetesemergencyorglucosecontrolreason,hospitalisationduetodiabetesemergencyorglucosecontroldate,complicationscreeningselectfordropdown,complicationscreening,otherpatientobservations,observationcategoryselect,suggestionsforpotentialadditionalsupportorinterventionfroma4degcomplicationsorfamilysupport.  \n",
       "3          Non-matching column names found: virtualremotecontactyn,virtualremotecontactdate,recommendedtestingfrequencyperday,currentmonthhospitalisationduetodiabetesemergencyorglucosecontrolreason,currentmonthhospitalisationduetodiabetesemergencyorglucosecontroldate,complicationscreeningcurrentmonthtestingselectfordropdown,complicationscreeningcurrentmonthtesting,otherpatientobservations,observationcategoryselect,suggestionsforpotentialadditionalsupportorinterventionfroma4degcomplicationsorfamilysupport.  \n",
       "4    Non-matching column names found: virtualremotecontactyn,virtualremotecontactdate,recommendedtestingfrequencyperday,currentmonthhospitalisationduetodiabetesemergencyorglucosecontrolreason,currentmonthhospitalisationduetodiabetesemergencyorglucosecontroldate,complicationscreeningcurrentmonthtestingselectfordropdown,complicationscreeningcurrentmonthtesting,otherpatientobservations,observationcategoryselect,suggestionsforpotentialadditionalsupportorinterventionfroma4degcomplicationsorfamilysupport,meter.  \n",
       "..                                                                                                                                                                                                                                                                                                                                                                                                                                                                                                                         ...  \n",
       "266                                                                                                                                                                                                                                                                                                                                                                                                                               Non-matching column names found: updatedhba1chba1cdate,updatedfbgfbgmmoll,updatedfbgfbgdate.  \n",
       "267                                                                                                                                                                                                                                                                                                                                                                                                                               Non-matching column names found: updatedhba1chba1cdate,updatedfbgfbgmmoll,updatedfbgfbgdate.  \n",
       "268                                                                                                                                                                                                                                                                                                                                                                                                                                                                                 Non-matching column names found: newmeter.  \n",
       "269                                                                                                                                                                                                                                                                                                                                                                                                                                                                                 Non-matching column names found: newmeter.  \n",
       "270                                                                                                                                                                                                                                                                                                                                                                                                                                 Non-matching column names found: lostpatientssummarylostdate,lostpatientssummarystatusout.  \n",
       "\n",
       "[271 rows x 3 columns]"
      ]
     },
     "execution_count": 24,
     "metadata": {},
     "output_type": "execute_result"
    }
   ],
   "source": [
    "df"
   ]
  },
  {
   "cell_type": "code",
   "execution_count": 16,
   "metadata": {},
   "outputs": [],
   "source": [
    "df.to_csv(Path(dir) / \"error_report.csv\", index=False)"
   ]
  },
  {
   "cell_type": "code",
   "execution_count": 25,
   "metadata": {},
   "outputs": [
    {
     "data": {
      "text/plain": [
       "20"
      ]
     },
     "execution_count": 25,
     "metadata": {},
     "output_type": "execute_result"
    }
   ],
   "source": [
    "df.file.nunique()"
   ]
  },
  {
   "attachments": {},
   "cell_type": "markdown",
   "metadata": {},
   "source": [
    "## Error"
   ]
  },
  {
   "cell_type": "code",
   "execution_count": 26,
   "metadata": {},
   "outputs": [
    {
     "data": {
      "text/html": [
       "<div>\n",
       "<style scoped>\n",
       "    .dataframe tbody tr th:only-of-type {\n",
       "        vertical-align: middle;\n",
       "    }\n",
       "\n",
       "    .dataframe tbody tr th {\n",
       "        vertical-align: top;\n",
       "    }\n",
       "\n",
       "    .dataframe thead th {\n",
       "        text-align: right;\n",
       "    }\n",
       "</style>\n",
       "<table border=\"1\" class=\"dataframe\">\n",
       "  <thead>\n",
       "    <tr style=\"text-align: right;\">\n",
       "      <th></th>\n",
       "      <th>file</th>\n",
       "      <th>error</th>\n",
       "      <th>warning</th>\n",
       "    </tr>\n",
       "  </thead>\n",
       "  <tbody>\n",
       "    <tr>\n",
       "      <th>28</th>\n",
       "      <td>2018_Lao Friends Hospital for Children A4D Tracker_DC_patient.log</td>\n",
       "      <td>Could not process 2018_Lao Friends Hospital for Children A4D Tracker_DC. Error = Error: row_min &lt; row_max is not TRUE .</td>\n",
       "      <td>None</td>\n",
       "    </tr>\n",
       "    <tr>\n",
       "      <th>29</th>\n",
       "      <td>2018_Lao Friends Hospital for Children A4D Tracker_DC_patient.log</td>\n",
       "      <td>Could not process 2019_Lao Friends Hospital for Children A4D Tracker_DC. Error = Error: row_min &lt; row_max is not TRUE .</td>\n",
       "      <td>None</td>\n",
       "    </tr>\n",
       "    <tr>\n",
       "      <th>30</th>\n",
       "      <td>2018_Lao Friends Hospital for Children A4D Tracker_DC_patient.log</td>\n",
       "      <td>Could not process 2020_Lao Friends Hospital for Children A4D Tracker_DC. Error = Error: row_min &lt; row_max is not TRUE .</td>\n",
       "      <td>None</td>\n",
       "    </tr>\n",
       "    <tr>\n",
       "      <th>31</th>\n",
       "      <td>2018_Lao Friends Hospital for Children A4D Tracker_DC_patient.log</td>\n",
       "      <td>Could not process 2021_Lao Friends Hospital for Children A4D Tracker_DC. Error = Error: row_min &lt; row_max is not TRUE .</td>\n",
       "      <td>None</td>\n",
       "    </tr>\n",
       "    <tr>\n",
       "      <th>43</th>\n",
       "      <td>2018_Lao Friends Hospital for Children A4D Tracker_DC_patient.log</td>\n",
       "      <td>Could not process 2022_Lao Friends Hospital for Children A4D Tracker_DC. Error = Error: row_min &lt; row_max is not TRUE .</td>\n",
       "      <td>None</td>\n",
       "    </tr>\n",
       "    <tr>\n",
       "      <th>76</th>\n",
       "      <td>2022_Lao Friends Hospital for Children A4D Tracker_DC_patient.log</td>\n",
       "      <td>Could not process 2022_Lao Friends Hospital for Children A4D Tracker_DC. Error = Error: row_min &lt; row_max is not TRUE .</td>\n",
       "      <td>None</td>\n",
       "    </tr>\n",
       "    <tr>\n",
       "      <th>92</th>\n",
       "      <td>2021_Lao Friends Hospital for Children A4D Tracker_DC_patient.log</td>\n",
       "      <td>Could not process 2021_Lao Friends Hospital for Children A4D Tracker_DC. Error = Error: row_min &lt; row_max is not TRUE .</td>\n",
       "      <td>None</td>\n",
       "    </tr>\n",
       "    <tr>\n",
       "      <th>104</th>\n",
       "      <td>2021_Lao Friends Hospital for Children A4D Tracker_DC_patient.log</td>\n",
       "      <td>Could not process 2022_Lao Friends Hospital for Children A4D Tracker_DC. Error = Error: row_min &lt; row_max is not TRUE .</td>\n",
       "      <td>None</td>\n",
       "    </tr>\n",
       "    <tr>\n",
       "      <th>144</th>\n",
       "      <td>2019_Lao Friends Hospital for Children A4D Tracker_DC_patient.log</td>\n",
       "      <td>Could not process 2019_Lao Friends Hospital for Children A4D Tracker_DC. Error = Error: row_min &lt; row_max is not TRUE .</td>\n",
       "      <td>None</td>\n",
       "    </tr>\n",
       "    <tr>\n",
       "      <th>145</th>\n",
       "      <td>2019_Lao Friends Hospital for Children A4D Tracker_DC_patient.log</td>\n",
       "      <td>Could not process 2020_Lao Friends Hospital for Children A4D Tracker_DC. Error = Error: row_min &lt; row_max is not TRUE .</td>\n",
       "      <td>None</td>\n",
       "    </tr>\n",
       "    <tr>\n",
       "      <th>146</th>\n",
       "      <td>2019_Lao Friends Hospital for Children A4D Tracker_DC_patient.log</td>\n",
       "      <td>Could not process 2021_Lao Friends Hospital for Children A4D Tracker_DC. Error = Error: row_min &lt; row_max is not TRUE .</td>\n",
       "      <td>None</td>\n",
       "    </tr>\n",
       "    <tr>\n",
       "      <th>158</th>\n",
       "      <td>2019_Lao Friends Hospital for Children A4D Tracker_DC_patient.log</td>\n",
       "      <td>Could not process 2022_Lao Friends Hospital for Children A4D Tracker_DC. Error = Error: row_min &lt; row_max is not TRUE .</td>\n",
       "      <td>None</td>\n",
       "    </tr>\n",
       "    <tr>\n",
       "      <th>195</th>\n",
       "      <td>2020_Lao Friends Hospital for Children A4D Tracker_DC_patient.log</td>\n",
       "      <td>Could not process 2020_Lao Friends Hospital for Children A4D Tracker_DC. Error = Error: row_min &lt; row_max is not TRUE .</td>\n",
       "      <td>None</td>\n",
       "    </tr>\n",
       "    <tr>\n",
       "      <th>196</th>\n",
       "      <td>2020_Lao Friends Hospital for Children A4D Tracker_DC_patient.log</td>\n",
       "      <td>Could not process 2021_Lao Friends Hospital for Children A4D Tracker_DC. Error = Error: row_min &lt; row_max is not TRUE .</td>\n",
       "      <td>None</td>\n",
       "    </tr>\n",
       "    <tr>\n",
       "      <th>208</th>\n",
       "      <td>2020_Lao Friends Hospital for Children A4D Tracker_DC_patient.log</td>\n",
       "      <td>Could not process 2022_Lao Friends Hospital for Children A4D Tracker_DC. Error = Error: row_min &lt; row_max is not TRUE .</td>\n",
       "      <td>None</td>\n",
       "    </tr>\n",
       "  </tbody>\n",
       "</table>\n",
       "</div>"
      ],
      "text/plain": [
       "                                                                  file  \\\n",
       "28   2018_Lao Friends Hospital for Children A4D Tracker_DC_patient.log   \n",
       "29   2018_Lao Friends Hospital for Children A4D Tracker_DC_patient.log   \n",
       "30   2018_Lao Friends Hospital for Children A4D Tracker_DC_patient.log   \n",
       "31   2018_Lao Friends Hospital for Children A4D Tracker_DC_patient.log   \n",
       "43   2018_Lao Friends Hospital for Children A4D Tracker_DC_patient.log   \n",
       "76   2022_Lao Friends Hospital for Children A4D Tracker_DC_patient.log   \n",
       "92   2021_Lao Friends Hospital for Children A4D Tracker_DC_patient.log   \n",
       "104  2021_Lao Friends Hospital for Children A4D Tracker_DC_patient.log   \n",
       "144  2019_Lao Friends Hospital for Children A4D Tracker_DC_patient.log   \n",
       "145  2019_Lao Friends Hospital for Children A4D Tracker_DC_patient.log   \n",
       "146  2019_Lao Friends Hospital for Children A4D Tracker_DC_patient.log   \n",
       "158  2019_Lao Friends Hospital for Children A4D Tracker_DC_patient.log   \n",
       "195  2020_Lao Friends Hospital for Children A4D Tracker_DC_patient.log   \n",
       "196  2020_Lao Friends Hospital for Children A4D Tracker_DC_patient.log   \n",
       "208  2020_Lao Friends Hospital for Children A4D Tracker_DC_patient.log   \n",
       "\n",
       "                                                                                                                       error  \\\n",
       "28   Could not process 2018_Lao Friends Hospital for Children A4D Tracker_DC. Error = Error: row_min < row_max is not TRUE .   \n",
       "29   Could not process 2019_Lao Friends Hospital for Children A4D Tracker_DC. Error = Error: row_min < row_max is not TRUE .   \n",
       "30   Could not process 2020_Lao Friends Hospital for Children A4D Tracker_DC. Error = Error: row_min < row_max is not TRUE .   \n",
       "31   Could not process 2021_Lao Friends Hospital for Children A4D Tracker_DC. Error = Error: row_min < row_max is not TRUE .   \n",
       "43   Could not process 2022_Lao Friends Hospital for Children A4D Tracker_DC. Error = Error: row_min < row_max is not TRUE .   \n",
       "76   Could not process 2022_Lao Friends Hospital for Children A4D Tracker_DC. Error = Error: row_min < row_max is not TRUE .   \n",
       "92   Could not process 2021_Lao Friends Hospital for Children A4D Tracker_DC. Error = Error: row_min < row_max is not TRUE .   \n",
       "104  Could not process 2022_Lao Friends Hospital for Children A4D Tracker_DC. Error = Error: row_min < row_max is not TRUE .   \n",
       "144  Could not process 2019_Lao Friends Hospital for Children A4D Tracker_DC. Error = Error: row_min < row_max is not TRUE .   \n",
       "145  Could not process 2020_Lao Friends Hospital for Children A4D Tracker_DC. Error = Error: row_min < row_max is not TRUE .   \n",
       "146  Could not process 2021_Lao Friends Hospital for Children A4D Tracker_DC. Error = Error: row_min < row_max is not TRUE .   \n",
       "158  Could not process 2022_Lao Friends Hospital for Children A4D Tracker_DC. Error = Error: row_min < row_max is not TRUE .   \n",
       "195  Could not process 2020_Lao Friends Hospital for Children A4D Tracker_DC. Error = Error: row_min < row_max is not TRUE .   \n",
       "196  Could not process 2021_Lao Friends Hospital for Children A4D Tracker_DC. Error = Error: row_min < row_max is not TRUE .   \n",
       "208  Could not process 2022_Lao Friends Hospital for Children A4D Tracker_DC. Error = Error: row_min < row_max is not TRUE .   \n",
       "\n",
       "    warning  \n",
       "28     None  \n",
       "29     None  \n",
       "30     None  \n",
       "31     None  \n",
       "43     None  \n",
       "76     None  \n",
       "92     None  \n",
       "104    None  \n",
       "144    None  \n",
       "145    None  \n",
       "146    None  \n",
       "158    None  \n",
       "195    None  \n",
       "196    None  \n",
       "208    None  "
      ]
     },
     "execution_count": 26,
     "metadata": {},
     "output_type": "execute_result"
    }
   ],
   "source": [
    "df[~df.error.isna()]"
   ]
  },
  {
   "cell_type": "code",
   "execution_count": 9,
   "metadata": {},
   "outputs": [
    {
     "data": {
      "text/plain": [
       "35.8974358974359"
      ]
     },
     "execution_count": 9,
     "metadata": {},
     "output_type": "execute_result"
    }
   ],
   "source": [
    "# how many files could not be processed in %?\n",
    "len(df[(~df.error.isna()) & (df.error.str.contains(\"Could not process\"))]) / len(files) * 100\n",
    "                                                        "
   ]
  },
  {
   "cell_type": "code",
   "execution_count": 10,
   "metadata": {},
   "outputs": [
    {
     "data": {
      "text/plain": [
       "[]"
      ]
     },
     "execution_count": 10,
     "metadata": {},
     "output_type": "execute_result"
    }
   ],
   "source": [
    "# missing patient id\n",
    "df[(~df.error.isna()) & (df.error.str.contains(\"patient_id\"))].file.tolist()"
   ]
  },
  {
   "cell_type": "code",
   "execution_count": 11,
   "metadata": {},
   "outputs": [
    {
     "name": "stdout",
     "output_type": "stream",
     "text": [
      "\n"
     ]
    }
   ],
   "source": [
    "# month list is empty?\n",
    "print(\"\\n\".join(l.split(\".\")[0] for l in df[(~df.error.isna()) & (df.error.str.contains(\"month_list\"))].file.tolist()))"
   ]
  },
  {
   "cell_type": "code",
   "execution_count": 12,
   "metadata": {},
   "outputs": [
    {
     "name": "stdout",
     "output_type": "stream",
     "text": [
      "[]\n",
      "[]\n",
      "[]\n",
      "[]\n",
      "[]\n",
      "[]\n"
     ]
    }
   ],
   "source": [
    "# cannot find patient data\n",
    "for year in range(2017,2023):\n",
    "    subdf = df[(~df.error.isna()) & (df.error.str.contains(\"readxl::cell_limits\"))]\n",
    "    print(subdf[subdf.file.str.startswith(str(year))].file.tolist())"
   ]
  },
  {
   "cell_type": "code",
   "execution_count": 13,
   "metadata": {},
   "outputs": [
    {
     "data": {
      "text/html": [
       "<div>\n",
       "<style scoped>\n",
       "    .dataframe tbody tr th:only-of-type {\n",
       "        vertical-align: middle;\n",
       "    }\n",
       "\n",
       "    .dataframe tbody tr th {\n",
       "        vertical-align: top;\n",
       "    }\n",
       "\n",
       "    .dataframe thead th {\n",
       "        text-align: right;\n",
       "    }\n",
       "</style>\n",
       "<table border=\"1\" class=\"dataframe\">\n",
       "  <thead>\n",
       "    <tr style=\"text-align: right;\">\n",
       "      <th></th>\n",
       "      <th>file</th>\n",
       "      <th>error</th>\n",
       "      <th>warning</th>\n",
       "    </tr>\n",
       "  </thead>\n",
       "  <tbody>\n",
       "  </tbody>\n",
       "</table>\n",
       "</div>"
      ],
      "text/plain": [
       "Empty DataFrame\n",
       "Columns: [file, error, warning]\n",
       "Index: []"
      ]
     },
     "execution_count": 13,
     "metadata": {},
     "output_type": "execute_result"
    }
   ],
   "source": [
    "# check problem with num_na_rows\n",
    "subdf = df[(~df.error.isna()) & (df.error.str.contains(\"num_na_rows\"))]\n",
    "subdf"
   ]
  },
  {
   "cell_type": "code",
   "execution_count": 14,
   "metadata": {},
   "outputs": [
    {
     "data": {
      "text/plain": [
       "[]"
      ]
     },
     "execution_count": 14,
     "metadata": {},
     "output_type": "execute_result"
    }
   ],
   "source": [
    "# check start_df_msd:end_df_msd\n",
    "subdf = df[(~df.error.isna()) & (df.error.str.contains(\"start_df_msd\"))]\n",
    "subdf.file.tolist()"
   ]
  },
  {
   "attachments": {},
   "cell_type": "markdown",
   "metadata": {},
   "source": [
    "# Warnings"
   ]
  },
  {
   "cell_type": "code",
   "execution_count": 18,
   "metadata": {},
   "outputs": [
    {
     "data": {
      "text/html": [
       "<div>\n",
       "<style scoped>\n",
       "    .dataframe tbody tr th:only-of-type {\n",
       "        vertical-align: middle;\n",
       "    }\n",
       "\n",
       "    .dataframe tbody tr th {\n",
       "        vertical-align: top;\n",
       "    }\n",
       "\n",
       "    .dataframe thead th {\n",
       "        text-align: right;\n",
       "    }\n",
       "</style>\n",
       "<table border=\"1\" class=\"dataframe\">\n",
       "  <thead>\n",
       "    <tr style=\"text-align: right;\">\n",
       "      <th></th>\n",
       "      <th>file</th>\n",
       "      <th>error</th>\n",
       "      <th>warning</th>\n",
       "    </tr>\n",
       "  </thead>\n",
       "  <tbody>\n",
       "    <tr>\n",
       "      <th>0</th>\n",
       "      <td>2022_Putrajaya Hospital A4D Tracker_DC_patient.log</td>\n",
       "      <td>None</td>\n",
       "      <td>Non-matching column names found: lostpatientssummarylostdate,lostpatientssummarystatusout.</td>\n",
       "    </tr>\n",
       "    <tr>\n",
       "      <th>1</th>\n",
       "      <td>2020_Sarawak General Hospital A4D Tracker_DC_patient.log</td>\n",
       "      <td>None</td>\n",
       "      <td>Non-matching column names found: updatedhba1chba1cdate,updatedfbgfbgmmoll,updatedfbgfbgdate.</td>\n",
       "    </tr>\n",
       "    <tr>\n",
       "      <th>2</th>\n",
       "      <td>2020_Sarawak General Hospital A4D Tracker_DC_patient.log</td>\n",
       "      <td>None</td>\n",
       "      <td>Non-matching column names found: updatedhba1chba1cdate,updatedfbgfbgmmoll,updatedfbgfbgdate.</td>\n",
       "    </tr>\n",
       "    <tr>\n",
       "      <th>3</th>\n",
       "      <td>2020_Sarawak General Hospital A4D Tracker_DC_patient.log</td>\n",
       "      <td>None</td>\n",
       "      <td>Non-matching column names found: updatedhba1chba1cdate,updatedfbgfbgmmoll,updatedfbgfbgdate.</td>\n",
       "    </tr>\n",
       "    <tr>\n",
       "      <th>4</th>\n",
       "      <td>2020_Sarawak General Hospital A4D Tracker_DC_patient.log</td>\n",
       "      <td>None</td>\n",
       "      <td>Non-matching column names found: updatedhba1chba1cdate,updatedfbgfbgmmoll,updatedfbgfbgdate.</td>\n",
       "    </tr>\n",
       "    <tr>\n",
       "      <th>...</th>\n",
       "      <td>...</td>\n",
       "      <td>...</td>\n",
       "      <td>...</td>\n",
       "    </tr>\n",
       "    <tr>\n",
       "      <th>239</th>\n",
       "      <td>2020_Penang General Hospital A4D Tracker_DC_patient.log</td>\n",
       "      <td>None</td>\n",
       "      <td>Non-matching column names found: educationvocation,admissiontohospitaldatemmmyy,remarkscomplicationsfamilysupport.</td>\n",
       "    </tr>\n",
       "    <tr>\n",
       "      <th>240</th>\n",
       "      <td>2020_Penang General Hospital A4D Tracker_DC_patient.log</td>\n",
       "      <td>None</td>\n",
       "      <td>Non-matching column names found: educationvocation,admissiontohospitaldatemmyy,remarkscomplicationsfamilysupport.</td>\n",
       "    </tr>\n",
       "    <tr>\n",
       "      <th>241</th>\n",
       "      <td>2020_Penang General Hospital A4D Tracker_DC_patient.log</td>\n",
       "      <td>None</td>\n",
       "      <td>Non-matching column names found: educationvocation,admissiontohospitaldatemmyy,remarkscomplicationsfamilysupport.</td>\n",
       "    </tr>\n",
       "    <tr>\n",
       "      <th>242</th>\n",
       "      <td>2020_Penang General Hospital A4D Tracker_DC_patient.log</td>\n",
       "      <td>None</td>\n",
       "      <td>Non-matching column names found: educationvocation,admissiontohospitaldatemmyy,remarkscomplicationsfamilysupport.</td>\n",
       "    </tr>\n",
       "    <tr>\n",
       "      <th>243</th>\n",
       "      <td>2020_Penang General Hospital A4D Tracker_DC_patient.log</td>\n",
       "      <td>None</td>\n",
       "      <td>Non-matching column names found: educationvocation,admissiontohospitaldatemmyy,remarkscomplicationsfamilysupport.</td>\n",
       "    </tr>\n",
       "  </tbody>\n",
       "</table>\n",
       "<p>230 rows × 3 columns</p>\n",
       "</div>"
      ],
      "text/plain": [
       "                                                         file error  \\\n",
       "0          2022_Putrajaya Hospital A4D Tracker_DC_patient.log  None   \n",
       "1    2020_Sarawak General Hospital A4D Tracker_DC_patient.log  None   \n",
       "2    2020_Sarawak General Hospital A4D Tracker_DC_patient.log  None   \n",
       "3    2020_Sarawak General Hospital A4D Tracker_DC_patient.log  None   \n",
       "4    2020_Sarawak General Hospital A4D Tracker_DC_patient.log  None   \n",
       "..                                                        ...   ...   \n",
       "239   2020_Penang General Hospital A4D Tracker_DC_patient.log  None   \n",
       "240   2020_Penang General Hospital A4D Tracker_DC_patient.log  None   \n",
       "241   2020_Penang General Hospital A4D Tracker_DC_patient.log  None   \n",
       "242   2020_Penang General Hospital A4D Tracker_DC_patient.log  None   \n",
       "243   2020_Penang General Hospital A4D Tracker_DC_patient.log  None   \n",
       "\n",
       "                                                                                                                warning  \n",
       "0                            Non-matching column names found: lostpatientssummarylostdate,lostpatientssummarystatusout.  \n",
       "1                          Non-matching column names found: updatedhba1chba1cdate,updatedfbgfbgmmoll,updatedfbgfbgdate.  \n",
       "2                          Non-matching column names found: updatedhba1chba1cdate,updatedfbgfbgmmoll,updatedfbgfbgdate.  \n",
       "3                          Non-matching column names found: updatedhba1chba1cdate,updatedfbgfbgmmoll,updatedfbgfbgdate.  \n",
       "4                          Non-matching column names found: updatedhba1chba1cdate,updatedfbgfbgmmoll,updatedfbgfbgdate.  \n",
       "..                                                                                                                  ...  \n",
       "239  Non-matching column names found: educationvocation,admissiontohospitaldatemmmyy,remarkscomplicationsfamilysupport.  \n",
       "240   Non-matching column names found: educationvocation,admissiontohospitaldatemmyy,remarkscomplicationsfamilysupport.  \n",
       "241   Non-matching column names found: educationvocation,admissiontohospitaldatemmyy,remarkscomplicationsfamilysupport.  \n",
       "242   Non-matching column names found: educationvocation,admissiontohospitaldatemmyy,remarkscomplicationsfamilysupport.  \n",
       "243   Non-matching column names found: educationvocation,admissiontohospitaldatemmyy,remarkscomplicationsfamilysupport.  \n",
       "\n",
       "[230 rows x 3 columns]"
      ]
     },
     "execution_count": 18,
     "metadata": {},
     "output_type": "execute_result"
    }
   ],
   "source": [
    "df[~df.warning.isna()]"
   ]
  },
  {
   "cell_type": "code",
   "execution_count": 15,
   "metadata": {},
   "outputs": [],
   "source": [
    "missed_names = df[(~df.warning.isna()) & (df.warning.str.startswith(\"Non-matching column names found\"))].warning.str.split(\":\",expand=True)[1].drop_duplicates()"
   ]
  },
  {
   "cell_type": "code",
   "execution_count": 16,
   "metadata": {},
   "outputs": [],
   "source": [
    "names = set()\n",
    "for row in missed_names:\n",
    "    names.update(w.strip(\".\") for w in row.split(\",\"))"
   ]
  },
  {
   "cell_type": "code",
   "execution_count": 17,
   "metadata": {},
   "outputs": [
    {
     "data": {
      "text/plain": [
       "{' complicationscreeningdropdown',\n",
       " ' currentmonthcomplicationscreeningdropdown',\n",
       " ' educationvocation',\n",
       " ' hospitalisationduetodiabetesemergencydate',\n",
       " ' lostpatientssummarylostdate',\n",
       " ' newmeter',\n",
       " ' recommendedtestingfrequencyperday',\n",
       " ' updatedhba1chba1cdate',\n",
       " ' virtualremotecontactyn',\n",
       " 'admissiontohospitaldatemmmyy',\n",
       " 'admissiontohospitaldatemmyy',\n",
       " 'complicationscreening',\n",
       " 'complicationscreeningcurrentmonthtesting',\n",
       " 'complicationscreeningcurrentmonthtestingselectfordropdown',\n",
       " 'complicationscreeningselect',\n",
       " 'complicationscreeningselectfordropdown',\n",
       " 'currentmonthcomplicationscreening',\n",
       " 'currentmonthhospitalisationduetodiabetesemergencyorglucosecontroldate',\n",
       " 'currentmonthhospitalisationduetodiabetesemergencyorglucosecontrolreason',\n",
       " 'hospitalisationduetodiabetesemergencyorglucosecontroldate',\n",
       " 'hospitalisationduetodiabetesemergencyorglucosecontrolreason',\n",
       " 'lostpatientssummarystatusout',\n",
       " 'meter',\n",
       " 'observationcategoryselect',\n",
       " 'otherpatientobservations',\n",
       " 'patientobservations',\n",
       " 'recommendedtestingfrequencyperday',\n",
       " 'remarkscomplicationsfamilysupport',\n",
       " 'suggestionsforpotentialadditionalsupportorinterventionfroma4degcomplicationsorfamilysupport',\n",
       " 'updatedfbgfbgdate',\n",
       " 'updatedfbgfbgmmoll',\n",
       " 'virtualremotecontactdate'}"
      ]
     },
     "execution_count": 17,
     "metadata": {},
     "output_type": "execute_result"
    }
   ],
   "source": [
    "names"
   ]
  },
  {
   "cell_type": "code",
   "execution_count": null,
   "metadata": {},
   "outputs": [],
   "source": []
  },
  {
   "cell_type": "code",
   "execution_count": null,
   "metadata": {},
   "outputs": [],
   "source": []
  },
  {
   "cell_type": "code",
   "execution_count": null,
   "metadata": {},
   "outputs": [],
   "source": []
  },
  {
   "cell_type": "code",
   "execution_count": null,
   "metadata": {},
   "outputs": [],
   "source": []
  },
  {
   "cell_type": "code",
   "execution_count": null,
   "metadata": {},
   "outputs": [],
   "source": []
  }
 ],
 "metadata": {
  "kernelspec": {
   "display_name": "Python 3",
   "language": "python",
   "name": "python3"
  },
  "language_info": {
   "codemirror_mode": {
    "name": "ipython",
    "version": 3
   },
   "file_extension": ".py",
   "mimetype": "text/x-python",
   "name": "python",
   "nbconvert_exporter": "python",
   "pygments_lexer": "ipython3",
   "version": "3.9.15"
  },
  "orig_nbformat": 4
 },
 "nbformat": 4,
 "nbformat_minor": 2
}
