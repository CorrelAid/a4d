{
 "cells": [
  {
   "cell_type": "code",
   "execution_count": 1,
   "metadata": {},
   "outputs": [],
   "source": [
    "from pathlib import Path\n",
    "\n",
    "import pandas as pd\n",
    "from collections import defaultdict\n",
    "\n",
    "pd.set_option('display.max_colwidth', None)\n",
    "pd.set_option('display.width', None)"
   ]
  },
  {
   "cell_type": "code",
   "execution_count": 4,
   "metadata": {},
   "outputs": [],
   "source": [
    "dir = \"/Users/miay/Library/CloudStorage/OneDrive-Personal/1 Projects/CorrelAid/2023 Q1/A4D/data/logs\""
   ]
  },
  {
   "cell_type": "code",
   "execution_count": 5,
   "metadata": {},
   "outputs": [
    {
     "data": {
      "text/plain": [
       "73"
      ]
     },
     "execution_count": 5,
     "metadata": {},
     "output_type": "execute_result"
    }
   ],
   "source": [
    "files = list(Path(dir).glob(\"*.log\"))\n",
    "len(files)"
   ]
  },
  {
   "cell_type": "code",
   "execution_count": 6,
   "metadata": {},
   "outputs": [],
   "source": [
    "data = defaultdict(list)\n",
    "for file in files:\n",
    "    with open(file, \"r\", encoding=\"utf-8\") as fstream:\n",
    "        for line in fstream.read().splitlines():\n",
    "            error = None\n",
    "            warn = None\n",
    "            if \"ERROR\" in line:\n",
    "                error = line.split(\"\\t\")[-1]\n",
    "                \n",
    "            if \"WARN\" in line:\n",
    "                warn = line.split(\"\\t\")[-1]\n",
    "            \n",
    "            if error or warn: \n",
    "                data[\"file\"].append(file.name)\n",
    "                data[\"error\"].append(error)\n",
    "                data[\"warning\"].append(warn)"
   ]
  },
  {
   "cell_type": "code",
   "execution_count": 7,
   "metadata": {},
   "outputs": [],
   "source": [
    "df = pd.DataFrame(data)"
   ]
  },
  {
   "cell_type": "code",
   "execution_count": 8,
   "metadata": {},
   "outputs": [
    {
     "data": {
      "text/html": [
       "<div>\n",
       "<style scoped>\n",
       "    .dataframe tbody tr th:only-of-type {\n",
       "        vertical-align: middle;\n",
       "    }\n",
       "\n",
       "    .dataframe tbody tr th {\n",
       "        vertical-align: top;\n",
       "    }\n",
       "\n",
       "    .dataframe thead th {\n",
       "        text-align: right;\n",
       "    }\n",
       "</style>\n",
       "<table border=\"1\" class=\"dataframe\">\n",
       "  <thead>\n",
       "    <tr style=\"text-align: right;\">\n",
       "      <th></th>\n",
       "      <th>file</th>\n",
       "      <th>error</th>\n",
       "      <th>warning</th>\n",
       "    </tr>\n",
       "  </thead>\n",
       "  <tbody>\n",
       "    <tr>\n",
       "      <th>0</th>\n",
       "      <td>2020_Penang General Hospital A4D Tracker_DC_product.log</td>\n",
       "      <td>None</td>\n",
       "      <td>Jan20 number of dates in product_entry_date that don't match the month/year on the sheet is 3: 2019-12-31, 2019-12-31, 2019-12-31</td>\n",
       "    </tr>\n",
       "    <tr>\n",
       "      <th>1</th>\n",
       "      <td>2020_Penang General Hospital A4D Tracker_DC_product.log</td>\n",
       "      <td>None</td>\n",
       "      <td>Feb20 number of dates in product_entry_date that don't match the month/year on the sheet is 4: 2020-01-31, 2020-01-31, 2020-03-04, 2020-01-31</td>\n",
       "    </tr>\n",
       "    <tr>\n",
       "      <th>2</th>\n",
       "      <td>2020_Penang General Hospital A4D Tracker_DC_product.log</td>\n",
       "      <td>None</td>\n",
       "      <td>Mar20 number of dates in product_entry_date that don't match the month/year on the sheet is 3: 2020-02-29, 2020-02-29, 2020-02-29</td>\n",
       "    </tr>\n",
       "    <tr>\n",
       "      <th>3</th>\n",
       "      <td>2020_Penang General Hospital A4D Tracker_DC_product.log</td>\n",
       "      <td>None</td>\n",
       "      <td>Apr20 number of dates in product_entry_date that don't match the month/year on the sheet is 3: 2020-03-31, 2020-03-31, 2020-03-31</td>\n",
       "    </tr>\n",
       "    <tr>\n",
       "      <th>4</th>\n",
       "      <td>2020_Penang General Hospital A4D Tracker_DC_product.log</td>\n",
       "      <td>None</td>\n",
       "      <td>May20 number of dates in product_entry_date that don't match the month/year on the sheet is 3: 2020-04-30, 2020-04-30, 2020-04-30</td>\n",
       "    </tr>\n",
       "    <tr>\n",
       "      <th>...</th>\n",
       "      <td>...</td>\n",
       "      <td>...</td>\n",
       "      <td>...</td>\n",
       "    </tr>\n",
       "    <tr>\n",
       "      <th>332</th>\n",
       "      <td>2020_Sultanah Bahiyah Hospital A4D Tracker_DC_product.log</td>\n",
       "      <td>None</td>\n",
       "      <td>Aug20 number of dates in product_entry_date that don't match the month/year on the sheet is 6: 2020-07-31, 2020-09-30, 2020-07-31, 2020-09-30, 2020-07-31, 2020-09-30</td>\n",
       "    </tr>\n",
       "    <tr>\n",
       "      <th>333</th>\n",
       "      <td>2020_Sultanah Bahiyah Hospital A4D Tracker_DC_product.log</td>\n",
       "      <td>None</td>\n",
       "      <td>Sep20 number of dates in product_entry_date that don't match the month/year on the sheet is 3: 2020-08-31, 2020-08-31, 2020-08-31</td>\n",
       "    </tr>\n",
       "    <tr>\n",
       "      <th>334</th>\n",
       "      <td>2020_Sultanah Bahiyah Hospital A4D Tracker_DC_product.log</td>\n",
       "      <td>None</td>\n",
       "      <td>Oct20 number of dates in product_entry_date that don't match the month/year on the sheet is 3: 2020-09-30, 2020-09-30, 2020-09-30</td>\n",
       "    </tr>\n",
       "    <tr>\n",
       "      <th>335</th>\n",
       "      <td>2020_Sultanah Bahiyah Hospital A4D Tracker_DC_product.log</td>\n",
       "      <td>None</td>\n",
       "      <td>Nov20 number of dates in product_entry_date that don't match the month/year on the sheet is 3: 2020-10-31, 2020-10-31, 2020-10-31</td>\n",
       "    </tr>\n",
       "    <tr>\n",
       "      <th>336</th>\n",
       "      <td>2020_Sultanah Bahiyah Hospital A4D Tracker_DC_product.log</td>\n",
       "      <td>None</td>\n",
       "      <td>Dec20 number of dates in product_entry_date that don't match the month/year on the sheet is 3: 2020-11-30, 2020-11-30, 2020-11-30</td>\n",
       "    </tr>\n",
       "  </tbody>\n",
       "</table>\n",
       "<p>337 rows × 3 columns</p>\n",
       "</div>"
      ],
      "text/plain": [
       "                                                          file error  \\\n",
       "0      2020_Penang General Hospital A4D Tracker_DC_product.log  None   \n",
       "1      2020_Penang General Hospital A4D Tracker_DC_product.log  None   \n",
       "2      2020_Penang General Hospital A4D Tracker_DC_product.log  None   \n",
       "3      2020_Penang General Hospital A4D Tracker_DC_product.log  None   \n",
       "4      2020_Penang General Hospital A4D Tracker_DC_product.log  None   \n",
       "..                                                         ...   ...   \n",
       "332  2020_Sultanah Bahiyah Hospital A4D Tracker_DC_product.log  None   \n",
       "333  2020_Sultanah Bahiyah Hospital A4D Tracker_DC_product.log  None   \n",
       "334  2020_Sultanah Bahiyah Hospital A4D Tracker_DC_product.log  None   \n",
       "335  2020_Sultanah Bahiyah Hospital A4D Tracker_DC_product.log  None   \n",
       "336  2020_Sultanah Bahiyah Hospital A4D Tracker_DC_product.log  None   \n",
       "\n",
       "                                                                                                                                                                   warning  \n",
       "0                                        Jan20 number of dates in product_entry_date that don't match the month/year on the sheet is 3: 2019-12-31, 2019-12-31, 2019-12-31  \n",
       "1                            Feb20 number of dates in product_entry_date that don't match the month/year on the sheet is 4: 2020-01-31, 2020-01-31, 2020-03-04, 2020-01-31  \n",
       "2                                        Mar20 number of dates in product_entry_date that don't match the month/year on the sheet is 3: 2020-02-29, 2020-02-29, 2020-02-29  \n",
       "3                                        Apr20 number of dates in product_entry_date that don't match the month/year on the sheet is 3: 2020-03-31, 2020-03-31, 2020-03-31  \n",
       "4                                        May20 number of dates in product_entry_date that don't match the month/year on the sheet is 3: 2020-04-30, 2020-04-30, 2020-04-30  \n",
       "..                                                                                                                                                                     ...  \n",
       "332  Aug20 number of dates in product_entry_date that don't match the month/year on the sheet is 6: 2020-07-31, 2020-09-30, 2020-07-31, 2020-09-30, 2020-07-31, 2020-09-30  \n",
       "333                                      Sep20 number of dates in product_entry_date that don't match the month/year on the sheet is 3: 2020-08-31, 2020-08-31, 2020-08-31  \n",
       "334                                      Oct20 number of dates in product_entry_date that don't match the month/year on the sheet is 3: 2020-09-30, 2020-09-30, 2020-09-30  \n",
       "335                                      Nov20 number of dates in product_entry_date that don't match the month/year on the sheet is 3: 2020-10-31, 2020-10-31, 2020-10-31  \n",
       "336                                      Dec20 number of dates in product_entry_date that don't match the month/year on the sheet is 3: 2020-11-30, 2020-11-30, 2020-11-30  \n",
       "\n",
       "[337 rows x 3 columns]"
      ]
     },
     "execution_count": 8,
     "metadata": {},
     "output_type": "execute_result"
    }
   ],
   "source": [
    "df"
   ]
  },
  {
   "cell_type": "code",
   "execution_count": 9,
   "metadata": {},
   "outputs": [],
   "source": [
    "df.to_csv(Path(dir) / \"error_report.csv\", index=False)"
   ]
  },
  {
   "cell_type": "code",
   "execution_count": 10,
   "metadata": {},
   "outputs": [
    {
     "data": {
      "text/plain": [
       "48"
      ]
     },
     "execution_count": 10,
     "metadata": {},
     "output_type": "execute_result"
    }
   ],
   "source": [
    "df.file.nunique()"
   ]
  },
  {
   "cell_type": "code",
   "execution_count": 12,
   "metadata": {},
   "outputs": [
    {
     "data": {
      "text/plain": [
       "array(['2020_Penang General Hospital A4D Tracker_DC_product.log',\n",
       "       '2019_Lao Friends Hospital for Children A4D Tracker_DC_product.log',\n",
       "       '2022_Mukdahan Hospital A4D Tracker_product.log',\n",
       "       '2022_Lao Friends Hospital for Children A4D Tracker_DC_patient.log',\n",
       "       '2022_Chiang Mai Maharaj Nakorn A4D Tracker_patient.log',\n",
       "       '2018_Penang General Hospital A4D Tracker_DC_product.log',\n",
       "       '2020_Sarawak General Hospital A4D Tracker_DC_patient.log',\n",
       "       '2021_Lao Friends Hospital for Children A4D Tracker_DC_patient.log',\n",
       "       '2020_Mahosot Hospital A4D Tracker_DC_patient.log',\n",
       "       '2021_Sultanah Bahiyah Hospital A4D Tracker_DC_product.log',\n",
       "       '2021_Sarawak General Hospital A4D Tracker_DC_patient.log',\n",
       "       '2022_Pahol  Polpayuhasena A4D Tracker_product.log',\n",
       "       '2022_Sultanah Bahiyah A4D Tracker_DC_product.log',\n",
       "       '2019_Mahosot Hospital A4D Tracker_product.log',\n",
       "       '2022_Sarawak General Hospital A4D Tracker_DC_product.log',\n",
       "       \"2021_Likas Women & Children's Hospital A4D Tracker_DC_patient.log\",\n",
       "       '2020_Lao Friends Hospital for Children A4D Tracker_DC_product.log',\n",
       "       '2022_Khon Kaen Hospital A4D Tracker_product.log',\n",
       "       '2022_Penang General Hospital A4D Tracker_DC_patient.log',\n",
       "       '2021_Mahosot Hospital A4D Tracker_DC_product.log',\n",
       "       '2022_Mahosot Hosptial A4D Tracker_DC_patient.log',\n",
       "       '2021_Putrajaya Hospital A4D Tracker_DC_patient.log',\n",
       "       '2019_Penang General Hospital A4D Tracker_DC_patient.log',\n",
       "       '2021_Penang General Hospital A4D Tracker_DC_patient.log',\n",
       "       '2018_Lao Friends Hospital for Children A4D Tracker_DC_patient.log',\n",
       "       '2021_Penang General Hospital A4D Tracker_DC_product.log',\n",
       "       '2019_Sultanah Bahiyah Hospital A4D Tracker_DC_product.log',\n",
       "       '2022_Mahosot Hosptial A4D Tracker_DC_product.log',\n",
       "       '2021_Putrajaya Hospital A4D Tracker_DC_product.log',\n",
       "       '2019_Penang General Hospital A4D Tracker_DC_product.log',\n",
       "       '2019_Sarawak General Hospital A4D Tracker_DC_product.log',\n",
       "       '2022_Surat Thani A4D Tracker_product.log',\n",
       "       '2022_Khon Kaen Hospital A4D Tracker_patient.log',\n",
       "       '2022_Penang General Hospital A4D Tracker_DC_product.log',\n",
       "       '2020_Lao Friends Hospital for Children A4D Tracker_DC_patient.log',\n",
       "       \"2021_Likas Women & Children's Hospital A4D Tracker_DC_product.log\",\n",
       "       '2022_Sunprasitthiprasong Hospital A4D Tracker_product.log',\n",
       "       '2021_Sarawak General Hospital A4D Tracker_DC_product.log',\n",
       "       '2021_Sultanah Bahiyah Hospital A4D Tracker_DC_patient.log',\n",
       "       '2020_Mahosot Hospital A4D Tracker_DC_product.log',\n",
       "       '2021_Lao Friends Hospital for Children A4D Tracker_DC_product.log',\n",
       "       '2020_Sarawak General Hospital A4D Tracker_DC_product.log',\n",
       "       '2022_Chiang Mai Maharaj Nakorn A4D Tracker_product.log',\n",
       "       '2022_Chulalongkorn Hospital A4D Tracker_patient.log',\n",
       "       '2022_Mukdahan Hospital A4D Tracker_patient.log',\n",
       "       '2018_Mahosot Hospital A4D Tracker_product.log',\n",
       "       '2020_Penang General Hospital A4D Tracker_DC_patient.log',\n",
       "       '2020_Sultanah Bahiyah Hospital A4D Tracker_DC_product.log'],\n",
       "      dtype=object)"
      ]
     },
     "execution_count": 12,
     "metadata": {},
     "output_type": "execute_result"
    }
   ],
   "source": [
    "df.file.unique()"
   ]
  },
  {
   "attachments": {},
   "cell_type": "markdown",
   "metadata": {},
   "source": [
    "## Error"
   ]
  },
  {
   "cell_type": "code",
   "execution_count": 13,
   "metadata": {},
   "outputs": [
    {
     "data": {
      "text/html": [
       "<div>\n",
       "<style scoped>\n",
       "    .dataframe tbody tr th:only-of-type {\n",
       "        vertical-align: middle;\n",
       "    }\n",
       "\n",
       "    .dataframe tbody tr th {\n",
       "        vertical-align: top;\n",
       "    }\n",
       "\n",
       "    .dataframe thead th {\n",
       "        text-align: right;\n",
       "    }\n",
       "</style>\n",
       "<table border=\"1\" class=\"dataframe\">\n",
       "  <thead>\n",
       "    <tr style=\"text-align: right;\">\n",
       "      <th></th>\n",
       "      <th>file</th>\n",
       "      <th>error</th>\n",
       "      <th>warning</th>\n",
       "    </tr>\n",
       "  </thead>\n",
       "  <tbody>\n",
       "    <tr>\n",
       "      <th>59</th>\n",
       "      <td>2021_Lao Friends Hospital for Children A4D Tracker_DC_patient.log</td>\n",
       "      <td>Could not process patient data. Error = Error: nrow(df_patient) &gt; 0 is not TRUE .</td>\n",
       "      <td>None</td>\n",
       "    </tr>\n",
       "    <tr>\n",
       "      <th>116</th>\n",
       "      <td>2022_Penang General Hospital A4D Tracker_DC_patient.log</td>\n",
       "      <td>Could not process patient data. Error = Error in if (header_cols[2] == header_cols_2[2]) {: missing value where TRUE/FALSE needed .</td>\n",
       "      <td>None</td>\n",
       "    </tr>\n",
       "    <tr>\n",
       "      <th>224</th>\n",
       "      <td>2020_Lao Friends Hospital for Children A4D Tracker_DC_patient.log</td>\n",
       "      <td>Could not process patient data. Error = Error: nrow(df_patient) &gt; 0 is not TRUE .</td>\n",
       "      <td>None</td>\n",
       "    </tr>\n",
       "    <tr>\n",
       "      <th>233</th>\n",
       "      <td>2022_Sunprasitthiprasong Hospital A4D Tracker_product.log</td>\n",
       "      <td>Could not process product data. Error = Error in start_df_msd:end_df_msd: argument of length 0 .</td>\n",
       "      <td>None</td>\n",
       "    </tr>\n",
       "  </tbody>\n",
       "</table>\n",
       "</div>"
      ],
      "text/plain": [
       "                                                                  file  \\\n",
       "59   2021_Lao Friends Hospital for Children A4D Tracker_DC_patient.log   \n",
       "116            2022_Penang General Hospital A4D Tracker_DC_patient.log   \n",
       "224  2020_Lao Friends Hospital for Children A4D Tracker_DC_patient.log   \n",
       "233          2022_Sunprasitthiprasong Hospital A4D Tracker_product.log   \n",
       "\n",
       "                                                                                                                                   error  \\\n",
       "59                                                     Could not process patient data. Error = Error: nrow(df_patient) > 0 is not TRUE .   \n",
       "116  Could not process patient data. Error = Error in if (header_cols[2] == header_cols_2[2]) {: missing value where TRUE/FALSE needed .   \n",
       "224                                                    Could not process patient data. Error = Error: nrow(df_patient) > 0 is not TRUE .   \n",
       "233                                     Could not process product data. Error = Error in start_df_msd:end_df_msd: argument of length 0 .   \n",
       "\n",
       "    warning  \n",
       "59     None  \n",
       "116    None  \n",
       "224    None  \n",
       "233    None  "
      ]
     },
     "execution_count": 13,
     "metadata": {},
     "output_type": "execute_result"
    }
   ],
   "source": [
    "df[~df.error.isna()]"
   ]
  },
  {
   "cell_type": "code",
   "execution_count": 14,
   "metadata": {},
   "outputs": [
    {
     "data": {
      "text/plain": [
       "5.47945205479452"
      ]
     },
     "execution_count": 14,
     "metadata": {},
     "output_type": "execute_result"
    }
   ],
   "source": [
    "# how many files could not be processed in %?\n",
    "len(df[(~df.error.isna()) & (df.error.str.contains(\"Could not process\"))]) / len(files) * 100\n",
    "                                                        "
   ]
  },
  {
   "cell_type": "code",
   "execution_count": 15,
   "metadata": {},
   "outputs": [
    {
     "data": {
      "text/plain": [
       "[]"
      ]
     },
     "execution_count": 15,
     "metadata": {},
     "output_type": "execute_result"
    }
   ],
   "source": [
    "# missing patient id\n",
    "df[(~df.error.isna()) & (df.error.str.contains(\"patient_id\"))].file.tolist()"
   ]
  },
  {
   "cell_type": "code",
   "execution_count": 16,
   "metadata": {},
   "outputs": [
    {
     "name": "stdout",
     "output_type": "stream",
     "text": [
      "\n"
     ]
    }
   ],
   "source": [
    "# month list is empty?\n",
    "print(\"\\n\".join(l.split(\".\")[0] for l in df[(~df.error.isna()) & (df.error.str.contains(\"month_list\"))].file.tolist()))"
   ]
  },
  {
   "cell_type": "code",
   "execution_count": 17,
   "metadata": {},
   "outputs": [
    {
     "name": "stdout",
     "output_type": "stream",
     "text": [
      "[]\n",
      "[]\n",
      "[]\n",
      "[]\n",
      "[]\n",
      "[]\n"
     ]
    }
   ],
   "source": [
    "# cannot find patient data\n",
    "for year in range(2017,2023):\n",
    "    subdf = df[(~df.error.isna()) & (df.error.str.contains(\"readxl::cell_limits\"))]\n",
    "    print(subdf[subdf.file.str.startswith(str(year))].file.tolist())"
   ]
  },
  {
   "cell_type": "code",
   "execution_count": 18,
   "metadata": {},
   "outputs": [
    {
     "data": {
      "text/html": [
       "<div>\n",
       "<style scoped>\n",
       "    .dataframe tbody tr th:only-of-type {\n",
       "        vertical-align: middle;\n",
       "    }\n",
       "\n",
       "    .dataframe tbody tr th {\n",
       "        vertical-align: top;\n",
       "    }\n",
       "\n",
       "    .dataframe thead th {\n",
       "        text-align: right;\n",
       "    }\n",
       "</style>\n",
       "<table border=\"1\" class=\"dataframe\">\n",
       "  <thead>\n",
       "    <tr style=\"text-align: right;\">\n",
       "      <th></th>\n",
       "      <th>file</th>\n",
       "      <th>error</th>\n",
       "      <th>warning</th>\n",
       "    </tr>\n",
       "  </thead>\n",
       "  <tbody>\n",
       "  </tbody>\n",
       "</table>\n",
       "</div>"
      ],
      "text/plain": [
       "Empty DataFrame\n",
       "Columns: [file, error, warning]\n",
       "Index: []"
      ]
     },
     "execution_count": 18,
     "metadata": {},
     "output_type": "execute_result"
    }
   ],
   "source": [
    "# check problem with num_na_rows\n",
    "subdf = df[(~df.error.isna()) & (df.error.str.contains(\"num_na_rows\"))]\n",
    "subdf"
   ]
  },
  {
   "cell_type": "code",
   "execution_count": 19,
   "metadata": {},
   "outputs": [
    {
     "data": {
      "text/plain": [
       "['2022_Sunprasitthiprasong Hospital A4D Tracker_product.log']"
      ]
     },
     "execution_count": 19,
     "metadata": {},
     "output_type": "execute_result"
    }
   ],
   "source": [
    "# check start_df_msd:end_df_msd\n",
    "subdf = df[(~df.error.isna()) & (df.error.str.contains(\"start_df_msd\"))]\n",
    "subdf.file.tolist()"
   ]
  },
  {
   "attachments": {},
   "cell_type": "markdown",
   "metadata": {},
   "source": [
    "# Warnings"
   ]
  },
  {
   "cell_type": "code",
   "execution_count": 20,
   "metadata": {},
   "outputs": [
    {
     "data": {
      "text/html": [
       "<div>\n",
       "<style scoped>\n",
       "    .dataframe tbody tr th:only-of-type {\n",
       "        vertical-align: middle;\n",
       "    }\n",
       "\n",
       "    .dataframe tbody tr th {\n",
       "        vertical-align: top;\n",
       "    }\n",
       "\n",
       "    .dataframe thead th {\n",
       "        text-align: right;\n",
       "    }\n",
       "</style>\n",
       "<table border=\"1\" class=\"dataframe\">\n",
       "  <thead>\n",
       "    <tr style=\"text-align: right;\">\n",
       "      <th></th>\n",
       "      <th>file</th>\n",
       "      <th>error</th>\n",
       "      <th>warning</th>\n",
       "    </tr>\n",
       "  </thead>\n",
       "  <tbody>\n",
       "    <tr>\n",
       "      <th>0</th>\n",
       "      <td>2020_Penang General Hospital A4D Tracker_DC_product.log</td>\n",
       "      <td>None</td>\n",
       "      <td>Jan20 number of dates in product_entry_date that don't match the month/year on the sheet is 3: 2019-12-31, 2019-12-31, 2019-12-31</td>\n",
       "    </tr>\n",
       "    <tr>\n",
       "      <th>1</th>\n",
       "      <td>2020_Penang General Hospital A4D Tracker_DC_product.log</td>\n",
       "      <td>None</td>\n",
       "      <td>Feb20 number of dates in product_entry_date that don't match the month/year on the sheet is 4: 2020-01-31, 2020-01-31, 2020-03-04, 2020-01-31</td>\n",
       "    </tr>\n",
       "    <tr>\n",
       "      <th>2</th>\n",
       "      <td>2020_Penang General Hospital A4D Tracker_DC_product.log</td>\n",
       "      <td>None</td>\n",
       "      <td>Mar20 number of dates in product_entry_date that don't match the month/year on the sheet is 3: 2020-02-29, 2020-02-29, 2020-02-29</td>\n",
       "    </tr>\n",
       "    <tr>\n",
       "      <th>3</th>\n",
       "      <td>2020_Penang General Hospital A4D Tracker_DC_product.log</td>\n",
       "      <td>None</td>\n",
       "      <td>Apr20 number of dates in product_entry_date that don't match the month/year on the sheet is 3: 2020-03-31, 2020-03-31, 2020-03-31</td>\n",
       "    </tr>\n",
       "    <tr>\n",
       "      <th>4</th>\n",
       "      <td>2020_Penang General Hospital A4D Tracker_DC_product.log</td>\n",
       "      <td>None</td>\n",
       "      <td>May20 number of dates in product_entry_date that don't match the month/year on the sheet is 3: 2020-04-30, 2020-04-30, 2020-04-30</td>\n",
       "    </tr>\n",
       "    <tr>\n",
       "      <th>...</th>\n",
       "      <td>...</td>\n",
       "      <td>...</td>\n",
       "      <td>...</td>\n",
       "    </tr>\n",
       "    <tr>\n",
       "      <th>332</th>\n",
       "      <td>2020_Sultanah Bahiyah Hospital A4D Tracker_DC_product.log</td>\n",
       "      <td>None</td>\n",
       "      <td>Aug20 number of dates in product_entry_date that don't match the month/year on the sheet is 6: 2020-07-31, 2020-09-30, 2020-07-31, 2020-09-30, 2020-07-31, 2020-09-30</td>\n",
       "    </tr>\n",
       "    <tr>\n",
       "      <th>333</th>\n",
       "      <td>2020_Sultanah Bahiyah Hospital A4D Tracker_DC_product.log</td>\n",
       "      <td>None</td>\n",
       "      <td>Sep20 number of dates in product_entry_date that don't match the month/year on the sheet is 3: 2020-08-31, 2020-08-31, 2020-08-31</td>\n",
       "    </tr>\n",
       "    <tr>\n",
       "      <th>334</th>\n",
       "      <td>2020_Sultanah Bahiyah Hospital A4D Tracker_DC_product.log</td>\n",
       "      <td>None</td>\n",
       "      <td>Oct20 number of dates in product_entry_date that don't match the month/year on the sheet is 3: 2020-09-30, 2020-09-30, 2020-09-30</td>\n",
       "    </tr>\n",
       "    <tr>\n",
       "      <th>335</th>\n",
       "      <td>2020_Sultanah Bahiyah Hospital A4D Tracker_DC_product.log</td>\n",
       "      <td>None</td>\n",
       "      <td>Nov20 number of dates in product_entry_date that don't match the month/year on the sheet is 3: 2020-10-31, 2020-10-31, 2020-10-31</td>\n",
       "    </tr>\n",
       "    <tr>\n",
       "      <th>336</th>\n",
       "      <td>2020_Sultanah Bahiyah Hospital A4D Tracker_DC_product.log</td>\n",
       "      <td>None</td>\n",
       "      <td>Dec20 number of dates in product_entry_date that don't match the month/year on the sheet is 3: 2020-11-30, 2020-11-30, 2020-11-30</td>\n",
       "    </tr>\n",
       "  </tbody>\n",
       "</table>\n",
       "<p>333 rows × 3 columns</p>\n",
       "</div>"
      ],
      "text/plain": [
       "                                                          file error  \\\n",
       "0      2020_Penang General Hospital A4D Tracker_DC_product.log  None   \n",
       "1      2020_Penang General Hospital A4D Tracker_DC_product.log  None   \n",
       "2      2020_Penang General Hospital A4D Tracker_DC_product.log  None   \n",
       "3      2020_Penang General Hospital A4D Tracker_DC_product.log  None   \n",
       "4      2020_Penang General Hospital A4D Tracker_DC_product.log  None   \n",
       "..                                                         ...   ...   \n",
       "332  2020_Sultanah Bahiyah Hospital A4D Tracker_DC_product.log  None   \n",
       "333  2020_Sultanah Bahiyah Hospital A4D Tracker_DC_product.log  None   \n",
       "334  2020_Sultanah Bahiyah Hospital A4D Tracker_DC_product.log  None   \n",
       "335  2020_Sultanah Bahiyah Hospital A4D Tracker_DC_product.log  None   \n",
       "336  2020_Sultanah Bahiyah Hospital A4D Tracker_DC_product.log  None   \n",
       "\n",
       "                                                                                                                                                                   warning  \n",
       "0                                        Jan20 number of dates in product_entry_date that don't match the month/year on the sheet is 3: 2019-12-31, 2019-12-31, 2019-12-31  \n",
       "1                            Feb20 number of dates in product_entry_date that don't match the month/year on the sheet is 4: 2020-01-31, 2020-01-31, 2020-03-04, 2020-01-31  \n",
       "2                                        Mar20 number of dates in product_entry_date that don't match the month/year on the sheet is 3: 2020-02-29, 2020-02-29, 2020-02-29  \n",
       "3                                        Apr20 number of dates in product_entry_date that don't match the month/year on the sheet is 3: 2020-03-31, 2020-03-31, 2020-03-31  \n",
       "4                                        May20 number of dates in product_entry_date that don't match the month/year on the sheet is 3: 2020-04-30, 2020-04-30, 2020-04-30  \n",
       "..                                                                                                                                                                     ...  \n",
       "332  Aug20 number of dates in product_entry_date that don't match the month/year on the sheet is 6: 2020-07-31, 2020-09-30, 2020-07-31, 2020-09-30, 2020-07-31, 2020-09-30  \n",
       "333                                      Sep20 number of dates in product_entry_date that don't match the month/year on the sheet is 3: 2020-08-31, 2020-08-31, 2020-08-31  \n",
       "334                                      Oct20 number of dates in product_entry_date that don't match the month/year on the sheet is 3: 2020-09-30, 2020-09-30, 2020-09-30  \n",
       "335                                      Nov20 number of dates in product_entry_date that don't match the month/year on the sheet is 3: 2020-10-31, 2020-10-31, 2020-10-31  \n",
       "336                                      Dec20 number of dates in product_entry_date that don't match the month/year on the sheet is 3: 2020-11-30, 2020-11-30, 2020-11-30  \n",
       "\n",
       "[333 rows x 3 columns]"
      ]
     },
     "execution_count": 20,
     "metadata": {},
     "output_type": "execute_result"
    }
   ],
   "source": [
    "df[~df.warning.isna()]"
   ]
  },
  {
   "cell_type": "code",
   "execution_count": 21,
   "metadata": {},
   "outputs": [],
   "source": [
    "missed_names = df[(~df.warning.isna()) & (df.warning.str.startswith(\"Non-matching column names found\"))].warning.str.split(\":\",expand=True)[1].drop_duplicates()"
   ]
  },
  {
   "cell_type": "code",
   "execution_count": 22,
   "metadata": {},
   "outputs": [],
   "source": [
    "names = set()\n",
    "for row in missed_names:\n",
    "    names.update(w.strip(\".\") for w in row.split(\",\"))"
   ]
  },
  {
   "cell_type": "code",
   "execution_count": 23,
   "metadata": {},
   "outputs": [
    {
     "data": {
      "text/plain": [
       "{' complicationscreeningdropdown',\n",
       " ' currentmonthcomplicationscreeningdropdown',\n",
       " ' educationvocation',\n",
       " ' estimatedinsulinrequiredperyearvialbox',\n",
       " ' hospitalisationduetodiabetesemergencydate',\n",
       " ' hospitalisationduetodiabetesemergencyorglucosecontrolreason',\n",
       " ' instantmeterissued',\n",
       " ' instantmeterreceiveddate',\n",
       " ' lastclinicvisitไปโรงพยาบาลdate',\n",
       " ' lastremotefollowupโดยโทรศัพทdate',\n",
       " ' newmeter',\n",
       " ' remotefu',\n",
       " ' updatedhba1chba1cdate',\n",
       " ' virtualremotecontactyn',\n",
       " 'admissiontohospitaldatemmmyy',\n",
       " 'admissiontohospitaldatemmyy',\n",
       " 'complicationscreeningdropdown',\n",
       " 'complicationscreeningselect',\n",
       " 'complicationscreeningselectfordropdown',\n",
       " 'currentmonthcomplicationscreeningdropdown',\n",
       " 'estimatedinsulinrequiredperyearvialbox',\n",
       " 'hospitalisationduetodiabetesemergencyorglucosecontroldate',\n",
       " 'hospitalisationduetodiabetesemergencyorglucosecontrolreason',\n",
       " 'instantmeterreceiveddate',\n",
       " 'lastremotefollowupสายเขาdate',\n",
       " 'meter',\n",
       " 'patientobservations',\n",
       " 'remarkscomplicationsfamilysupport',\n",
       " 'updatedfbgfbgdate',\n",
       " 'updatedfbgfbgmmoll',\n",
       " 'virtualremotecontactdate'}"
      ]
     },
     "execution_count": 23,
     "metadata": {},
     "output_type": "execute_result"
    }
   ],
   "source": [
    "names"
   ]
  }
 ],
 "metadata": {
  "kernelspec": {
   "display_name": "Python 3",
   "language": "python",
   "name": "python3"
  },
  "language_info": {
   "codemirror_mode": {
    "name": "ipython",
    "version": 3
   },
   "file_extension": ".py",
   "mimetype": "text/x-python",
   "name": "python",
   "nbconvert_exporter": "python",
   "pygments_lexer": "ipython3",
   "version": "3.9.15"
  },
  "orig_nbformat": 4
 },
 "nbformat": 4,
 "nbformat_minor": 2
}
